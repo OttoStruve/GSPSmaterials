{
 "metadata": {
  "celltoolbar": "Slideshow",
  "name": "",
  "signature": "sha256:6e9660e317ed7d810210285903fb57e0be9834863c6dd4d6a883cf5fb1d09431"
 },
 "nbformat": 3,
 "nbformat_minor": 0,
 "worksheets": [
  {
   "cells": [
    {
     "cell_type": "markdown",
     "metadata": {
      "slideshow": {
       "slide_type": "slide"
      }
     },
     "source": [
      "# Plotting in Python\n",
      "### Matplotlib, Seaborn, APlpy, and Bokeh\n",
      "\n",
      " Kevin Gullikson"
     ]
    },
    {
     "cell_type": "markdown",
     "metadata": {},
     "source": [
      "# Outline\n",
      "\n",
      "  - Matplotlib\n",
      "    - Basics\n",
      "    - Latex\n",
      "    - legends\n",
      "    - Annotation\n",
      "    - Multiple axes (use my SpT axis example)\n",
      "  - Seaborn: Pretty colors, easy configuration\n",
      "  - APLpy: Astronomy plotting library\n",
      "  - bokeh\n",
      "    - hover tooltips\n",
      "    - linked brushing!"
     ]
    },
    {
     "cell_type": "markdown",
     "metadata": {
      "slideshow": {
       "slide_type": "slide"
      }
     },
     "source": [
      "![Matplotlib](Images/Matplotlib_logo.svg.png)\n",
      "\n",
      "  - Main plotting library\n",
      "  - Almost everyone has it\n",
      "  - [Extensive gallery](http://matplotlib.org/gallery.html)\n",
      "  - Jet == sad panda\n",
      "  "
     ]
    },
    {
     "cell_type": "markdown",
     "metadata": {},
     "source": [
      "# Plotting basics\n",
      "\n",
      "    import numpy as np\n",
      "    import matplotlib.pyplot as plt\n",
      "\n",
      "    x = np.arange(0, 2.0*np.pi)\n",
      "    y = np.sin(x)\n",
      "\n",
      "    fix, ax = plt.subplots()\n",
      "    ax.plot(x,y)"
     ]
    },
    {
     "cell_type": "markdown",
     "metadata": {
      "slideshow": {
       "slide_type": "subslide"
      }
     },
     "source": [
      "# Latex in matplotlib\n",
      "\n",
      "    ax.set_xlabel(r'Volume ($pc^3$)')"
     ]
    },
    {
     "cell_type": "markdown",
     "metadata": {},
     "source": [
      "#TODO: Make plot with a latex axis label. Build up the same plot throughout talks"
     ]
    },
    {
     "cell_type": "code",
     "collapsed": false,
     "input": [],
     "language": "python",
     "metadata": {},
     "outputs": []
    }
   ],
   "metadata": {}
  }
 ]
}