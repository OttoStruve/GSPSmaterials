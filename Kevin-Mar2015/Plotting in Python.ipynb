{
 "metadata": {
  "celltoolbar": "Slideshow",
  "name": "",
  "signature": "sha256:bc3ab903fc1179ab1ad841c44fa748607eb12e0356eeb749854e573f6b90c0f4"
 },
 "nbformat": 3,
 "nbformat_minor": 0,
 "worksheets": [
  {
   "cells": [
    {
     "cell_type": "markdown",
     "metadata": {
      "slideshow": {
       "slide_type": "slide"
      }
     },
     "source": [
      "# Plotting in Python\n",
      "### Matplotlib, Seaborn, and Bokeh\n",
      "\n",
      " Kevin Gullikson"
     ]
    },
    {
     "cell_type": "markdown",
     "metadata": {
      "slideshow": {
       "slide_type": "slide"
      }
     },
     "source": [
      "## Matplotlib\n",
      "\n",
      "  - Main plotting library\n",
      "  - Almost everyone has it\n",
      "  - [Extensive gallery](http://matplotlib.org/gallery.html)\n",
      "  - Jet == sad panda\n",
      "  "
     ]
    },
    {
     "cell_type": "code",
     "collapsed": false,
     "input": [],
     "language": "python",
     "metadata": {
      "slideshow": {
       "slide_type": "subslide"
      }
     },
     "outputs": []
    }
   ],
   "metadata": {}
  }
 ]
}