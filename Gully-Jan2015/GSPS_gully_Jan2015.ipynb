{
 "metadata": {
  "name": "",
  "signature": "sha256:180edad2f47547e91738cba4277cbb7e7085eab9e185ec2e9d688bccccc0ffe4"
 },
 "nbformat": 3,
 "nbformat_minor": 0,
 "worksheets": [
  {
   "cells": [
    {
     "cell_type": "code",
     "collapsed": false,
     "input": [
      "from IPython.display import display\n",
      "from IPython.display import Image\n",
      "from IPython.display import HTML"
     ],
     "language": "python",
     "metadata": {
      "slideshow": {
       "slide_type": "skip"
      }
     },
     "outputs": [],
     "prompt_number": 1
    },
    {
     "cell_type": "code",
     "collapsed": false,
     "input": [
      "%%html\n",
      "<script type=\"text/javascript\">\n",
      "     show=true;\n",
      "     function toggle(){\n",
      "         if (show){$('div.input').hide();}else{$('div.input').show();}\n",
      "            show = !show}\n",
      " </script>\n",
      " <h2><a href=\"javascript:toggle()\" target=\"_self\">Click to toggle code input</a></h2>"
     ],
     "language": "python",
     "metadata": {
      "slideshow": {
       "slide_type": "slide"
      }
     },
     "outputs": [
      {
       "html": [
        "<script type=\"text/javascript\">\n",
        "     show=true;\n",
        "     function toggle(){\n",
        "         if (show){$('div.input').hide();}else{$('div.input').show();}\n",
        "            show = !show}\n",
        " </script>\n",
        " <h2><a href=\"javascript:toggle()\" target=\"_self\">Click to toggle code input</a></h2>"
       ],
       "metadata": {},
       "output_type": "display_data",
       "text": [
        "<IPython.core.display.HTML at 0x103512ad0>"
       ]
      }
     ],
     "prompt_number": 2
    },
    {
     "cell_type": "code",
     "collapsed": false,
     "input": [
      "%%html\n",
      "<blockquote class=\"twitter-tweet\" lang=\"en\"><p>Having an unusually fun time prepping a talk. No results, no minutia. All ideas and methods and challenges. Wish it were always this way!</p>&mdash; katy huff (@katyhuff) <a href=\"https://twitter.com/katyhuff/status/504878887604465664\">August 28, 2014</a></blockquote>\n",
      "<script async src=\"//platform.twitter.com/widgets.js\" charset=\"utf-8\"></script>"
     ],
     "language": "python",
     "metadata": {
      "slideshow": {
       "slide_type": "slide"
      }
     },
     "outputs": [
      {
       "html": [
        "<blockquote class=\"twitter-tweet\" lang=\"en\"><p>Having an unusually fun time prepping a talk. No results, no minutia. All ideas and methods and challenges. Wish it were always this way!</p>&mdash; katy huff (@katyhuff) <a href=\"https://twitter.com/katyhuff/status/504878887604465664\">August 28, 2014</a></blockquote>\n",
        "<script async src=\"//platform.twitter.com/widgets.js\" charset=\"utf-8\"></script>"
       ],
       "metadata": {},
       "output_type": "display_data",
       "text": [
        "<IPython.core.display.HTML at 0x103512fd0>"
       ]
      }
     ],
     "prompt_number": 3
    },
    {
     "cell_type": "markdown",
     "metadata": {
      "slideshow": {
       "slide_type": "slide"
      }
     },
     "source": [
      "#The Shell, The GitHub, and the Internet: Tools of Scientific Revolutions.\n",
      "\n",
      "Michael Gully-Santiago\n",
      "\n",
      "GSPS UT Austin Astronomy\n",
      "\n",
      "January 30, 2015"
     ]
    },
    {
     "cell_type": "code",
     "collapsed": false,
     "input": [
      "Image(url='http://upload.wikimedia.org/wikipedia/en/1/13/TheSunTheGenomeAndTheInternet.jpg')"
     ],
     "language": "python",
     "metadata": {
      "slideshow": {
       "slide_type": "slide"
      }
     },
     "outputs": [
      {
       "html": [
        "<img src=\"http://upload.wikimedia.org/wikipedia/en/1/13/TheSunTheGenomeAndTheInternet.jpg\"/>"
       ],
       "metadata": {},
       "output_type": "pyout",
       "prompt_number": 4,
       "text": [
        "<IPython.core.display.Image at 0x103512f10>"
       ]
      }
     ],
     "prompt_number": 4
    },
    {
     "cell_type": "markdown",
     "metadata": {},
     "source": [
      "There is a great satisfaction in building good tools for other people to use.\n",
      "\n",
      "*-Freeman Dyson*"
     ]
    },
    {
     "cell_type": "markdown",
     "metadata": {
      "slideshow": {
       "slide_type": "slide"
      }
     },
     "source": [
      "# The Shell\n",
      "\n",
      "## Things I will talk about:\n",
      "\n",
      "\n",
      "- **Commandline bullshittery**\n",
      "- **GCC**\n",
      "- **Conda/ anaconda**\n",
      "- **git**\n",
      "- **Code Reviews**\n",
      "\n",
      "## Other things I won't talk about much but are \"useful\":\n",
      "\n",
      "- Why **IPython Notebook Auto-Hide Input cells** is not an IPython Feature.\n",
      "- **Homebrew** is not a silver bullet for commandline bullshittery *Mac OSX*\n",
      "- **tlmgr** is sorta useful for managing LaTeX packages.\n",
      "- How monitoring your computer usage with **atMonitor** can help you understand your computer's performance.\n",
      "- **Caffeine** keeps your laptop from going to sleep.\n",
      "- **Spectacle** is great if you want to try to go a day without using your mouse.\n",
      "- **Camouflage** hides your desktop icons, so you look `Professional` when teaching, etc.\n",
      "- **VPN** could maybe possibly probably prevent your computer from getting pwned at the coffeeshop.\n",
      "- **1password**\n",
      "- **iTerm2** customizable alternative to Terminal *Mac OSX*\n",
      "- [.dotfiles](https://github.com/mathiasbynens/dotfiles) help manage your `.bash_profile`, etc\n",
      "- **Sublime Text** is a great text editor.  Unlimited free trial.\n",
      "- **IPython Notebook** The medium is... not? the message\n",
      "- **Jeykll/Nikola** Website stuff\n",
      "- **Bootstrap** More website stuff\n",
      "- **Ruby/Gems** Mostly for web stuff."
     ]
    },
    {
     "cell_type": "markdown",
     "metadata": {
      "slideshow": {
       "slide_type": "slide"
      }
     },
     "source": [
      "# The GitHub\n",
      "\n",
      "### Things I will talk about:\n",
      "- **GitHub**\n",
      "- **Markdown**\n",
      "- **Awesome files**\n",
      "\n",
      "### Things I probably won't have time to talk about:\n",
      "\n",
      "- How Camp Hogg does everything, including writing papers, out in the open on GitHub\n",
      "- How ProfJSB has tons of great machine learning resources on GitHub\n",
      "- Machine Learning\n",
      "- David Hogg / Moore-Sloan\n",
      "- AstroData Hack Week\n",
      "- Fernando IPython Notebook resources\n",
      "- IDL magic for IPython Notebooks\n",
      "- Fortran magic for IPython Notebooks\n",
      "- Software licensing\n",
      "- Data mining, munging, wrangling\n",
      "- Data mining AAS Job register\n",
      "- Data mining VoxCharta\n",
      "- Travis CI\n",
      "- Docker"
     ]
    },
    {
     "cell_type": "markdown",
     "metadata": {
      "slideshow": {
       "slide_type": "slide"
      }
     },
     "source": [
      "### The Internet\n",
      "\n",
      "Things I will talk about:\n",
      "\n",
      "- **Code school**\n",
      "- **Enthought Python Lectures**\n",
      "\n",
      "\n",
      "Things I won't talk about:\n",
      "\n",
      "- Hack Days\n",
      "- MIT Media Lab\n",
      "- Twitter\n",
      "- TACC- Wrangler\n",
      "- Authorea\n",
      "- Overheard on astroPH\n",
      "- AWS\n",
      "- Mechanical Turk (Emoji Dick)\n",
      "- Papers 2/3\n",
      "- D3.js\n",
      "- Javascript\n",
      "- MPLD3\n",
      "- Bokeh\n",
      "- Julia"
     ]
    },
    {
     "cell_type": "markdown",
     "metadata": {
      "slideshow": {
       "slide_type": "slide"
      }
     },
     "source": [
      "# The Shell"
     ]
    },
    {
     "cell_type": "code",
     "collapsed": false,
     "input": [
      "%%html \n",
      "<blockquote class=\"twitter-tweet\" lang=\"en\"><p>&quot;Helping my students overcome command-line bullshittery&quot; -- <a href=\"http://t.co/ZIhJFuLMaE\">http://t.co/ZIhJFuLMaE</a></p>&mdash; Philip Guo (@pgbovine) <a href=\"https://twitter.com/pgbovine/status/520239760569536512\">October 9, 2014</a></blockquote>\n",
      "<script async src=\"//platform.twitter.com/widgets.js\" charset=\"utf-8\"></script>"
     ],
     "language": "python",
     "metadata": {},
     "outputs": [
      {
       "html": [
        "<blockquote class=\"twitter-tweet\" lang=\"en\"><p>&quot;Helping my students overcome command-line bullshittery&quot; -- <a href=\"http://t.co/ZIhJFuLMaE\">http://t.co/ZIhJFuLMaE</a></p>&mdash; Philip Guo (@pgbovine) <a href=\"https://twitter.com/pgbovine/status/520239760569536512\">October 9, 2014</a></blockquote>\n",
        "<script async src=\"//platform.twitter.com/widgets.js\" charset=\"utf-8\"></script>"
       ],
       "metadata": {},
       "output_type": "display_data",
       "text": [
        "<IPython.core.display.HTML at 0x103512b50>"
       ]
      }
     ],
     "prompt_number": 5
    },
    {
     "cell_type": "markdown",
     "metadata": {
      "slideshow": {
       "slide_type": "slide"
      }
     },
     "source": [
      ">One of my highest-leverage activities when working with students on research is to help them install, set up, and configure software while overcoming the bullshittery of command-line interfaces.\n",
      "\n",
      "-[Philip Guo, Computer Science Professor at U. of Rochester, *Helping my students overcome command-line bullshittery*](http://pgbovine.net/command-line-bullshittery.htm)"
     ]
    },
    {
     "cell_type": "code",
     "collapsed": false,
     "input": [
      "%%html\n",
      "<blockquote class=\"twitter-tweet\" lang=\"en\"><p>I keep thinking about <a href=\"https://twitter.com/pgbovine\">@pgbovine</a>&#39;s recent post every time I encounter command-line bullshittery. <a href=\"https://twitter.com/hashtag/bullshittery?src=hash\">#bullshittery</a>&#10;<a href=\"http://t.co/pKZizVZpG2\">http://t.co/pKZizVZpG2</a></p>&mdash; gully_ (@gully_) <a href=\"https://twitter.com/gully_/status/525468444502654977\">October 24, 2014</a></blockquote>\n",
      "<script async src=\"//platform.twitter.com/widgets.js\" charset=\"utf-8\"></script>"
     ],
     "language": "python",
     "metadata": {},
     "outputs": [
      {
       "html": [
        "<blockquote class=\"twitter-tweet\" lang=\"en\"><p>I keep thinking about <a href=\"https://twitter.com/pgbovine\">@pgbovine</a>&#39;s recent post every time I encounter command-line bullshittery. <a href=\"https://twitter.com/hashtag/bullshittery?src=hash\">#bullshittery</a>&#10;<a href=\"http://t.co/pKZizVZpG2\">http://t.co/pKZizVZpG2</a></p>&mdash; gully_ (@gully_) <a href=\"https://twitter.com/gully_/status/525468444502654977\">October 24, 2014</a></blockquote>\n",
        "<script async src=\"//platform.twitter.com/widgets.js\" charset=\"utf-8\"></script>"
       ],
       "metadata": {},
       "output_type": "display_data",
       "text": [
        "<IPython.core.display.HTML at 0x103512ed0>"
       ]
      }
     ],
     "prompt_number": 6
    },
    {
     "cell_type": "markdown",
     "metadata": {
      "slideshow": {
       "slide_type": "slide"
      }
     },
     "source": [
      "> There are now two main cultures in computing: Most computer users treat software as a tool for getting tasks done, while programmers hold conversations with their software. One big challenge when teaching programming, no matter in what language, is getting students used to a conversation-oriented programmer culture, which is very different than a tool-oriented user culture.\n",
      "\n",
      "-[Philip Guo, *The Two Cultures of Computing*](http://pgbovine.net/two-cultures-of-computing.htm)"
     ]
    },
    {
     "cell_type": "code",
     "collapsed": false,
     "input": [
      "%%html \n",
      "<blockquote class=\"twitter-tweet\" lang=\"en\"><p>Things like this happen late at night:&#10;ls comp*.dat | awk &#39;{print(&quot;cat &quot;$1&quot; | awk q{print($5$6,$14,$21)}q &gt; &quot;$1&quot;.lst&quot;)}&#39; | sed &quot;s/q/&#39;/g&quot;</p>&mdash; julie k h (@jkru) <a href=\"https://twitter.com/jkru/status/487514914202742784\">July 11, 2014</a></blockquote>\n",
      "<script async src=\"//platform.twitter.com/widgets.js\" charset=\"utf-8\"></script>"
     ],
     "language": "python",
     "metadata": {},
     "outputs": [
      {
       "html": [
        "<blockquote class=\"twitter-tweet\" lang=\"en\"><p>Things like this happen late at night:&#10;ls comp*.dat | awk &#39;{print(&quot;cat &quot;$1&quot; | awk q{print($5$6,$14,$21)}q &gt; &quot;$1&quot;.lst&quot;)}&#39; | sed &quot;s/q/&#39;/g&quot;</p>&mdash; julie k h (@jkru) <a href=\"https://twitter.com/jkru/status/487514914202742784\">July 11, 2014</a></blockquote>\n",
        "<script async src=\"//platform.twitter.com/widgets.js\" charset=\"utf-8\"></script>"
       ],
       "metadata": {},
       "output_type": "display_data",
       "text": [
        "<IPython.core.display.HTML at 0x1035124d0>"
       ]
      }
     ],
     "prompt_number": 7
    },
    {
     "cell_type": "markdown",
     "metadata": {},
     "source": [
      "In my experience at UT Austin, the clearest examples of commandline bullshittery have generally involved `gcc`, `gfortran`, `cpp`, `Make`/`Makefiles`.  Other notable examples include `perl`, `pgplot`, `IDL path`, `.bash_profiles`, `LD_LIBRARY_PATH`, `git` (for better or worse), Mac OSX-specific packages like `Homebrew` etc.  Consider these examples:\n",
      "\n",
      "- It took me an embarassing amount of time to get the data reduction for the IMACS spectrograph to work.\n",
      "- Taylor flew out to Carnegie Observatories in Pasadena for a week and spent the lion's share of his time with Guillermo Blanc trying to get the code to work.\n",
      "- A large fraction of Casey Deen's recent visit from Germany was spent getting the right mix of C/Fortran compilers to work together for Moog on Aaron's Mac.\n",
      "- My inability to install CURE on my laptop prevented me from trying something experimental at the AstroDataHackWeek\n",
      "- Andrew Mann, Kevin, and I could not get *Starfish* to work during our recent hack day.\n",
      "- Getting started on TACC\n",
      "- Python\n"
     ]
    },
    {
     "cell_type": "markdown",
     "metadata": {},
     "source": [
      "**Key idea**- Commandline bullshittery is a reality of the modern scientific workflow.  I do not have any silver bullets for you.  But I would like to see the problem acknowledged, and openly discussed.  Here are a few specific tips for guidance."
     ]
    },
    {
     "cell_type": "markdown",
     "metadata": {
      "slideshow": {
       "slide_type": "slide"
      }
     },
     "source": [
      "# <center>GCC</center>\n",
      "\n",
      "GCC is weird on Macs, and maybe other OS's too.\n",
      "\n",
      "Sometimes I have to switch versions of `gcc` to get things to work.  It's never obvious, and usually takes a while to figure out."
     ]
    },
    {
     "cell_type": "code",
     "collapsed": false,
     "input": [
      "! which gcc\n",
      "! echo \"\"\n",
      "! gcc --version\n",
      "! /usr/local/bin/gcc --version"
     ],
     "language": "python",
     "metadata": {
      "slideshow": {
       "slide_type": "subslide"
      }
     },
     "outputs": [
      {
       "output_type": "stream",
       "stream": "stdout",
       "text": [
        "/Developer/usr/bin//gcc\r\n"
       ]
      },
      {
       "output_type": "stream",
       "stream": "stdout",
       "text": [
        "\r\n"
       ]
      },
      {
       "output_type": "stream",
       "stream": "stdout",
       "text": [
        "i686-apple-darwin10-gcc-4.2.1 (GCC) 4.2.1 (Apple Inc. build 5666) (dot 3)\r\n",
        "Copyright (C) 2007 Free Software Foundation, Inc.\r\n",
        "This is free software; see the source for copying conditions.  There is NO\r\n",
        "warranty; not even for MERCHANTABILITY or FITNESS FOR A PARTICULAR PURPOSE.\r\n",
        "\r\n"
       ]
      },
      {
       "output_type": "stream",
       "stream": "stdout",
       "text": [
        "gcc (GCC) 4.6.0 20100703 (experimental)\r\n",
        "Copyright (C) 2010 Free Software Foundation, Inc.\r\n",
        "This is free software; see the source for copying conditions.  There is NO\r\n",
        "warranty; not even for MERCHANTABILITY or FITNESS FOR A PARTICULAR PURPOSE.\r\n",
        "\r\n"
       ]
      }
     ],
     "prompt_number": 8
    },
    {
     "cell_type": "code",
     "collapsed": false,
     "input": [
      "%%html\n",
      "<iframe src=http://en.wikipedia.org/wiki/Dependency_hell width=900 height=275></iframe>'"
     ],
     "language": "python",
     "metadata": {
      "slideshow": {
       "slide_type": "skip"
      }
     },
     "outputs": [
      {
       "html": [
        "<iframe src=http://en.wikipedia.org/wiki/Dependency_hell width=900 height=275></iframe>'"
       ],
       "metadata": {},
       "output_type": "display_data",
       "text": [
        "<IPython.core.display.HTML at 0x1035122d0>"
       ]
      }
     ],
     "prompt_number": 9
    },
    {
     "cell_type": "code",
     "collapsed": false,
     "input": [
      "%%html\n",
      "<blockquote class=\"twitter-tweet\" lang=\"en\"><p>GCC dependency hell, resolved!</p>&mdash; gully_ (@gully_) <a href=\"https://twitter.com/gully_/status/516082823112192001\">September 28, 2014</a></blockquote>\n",
      "<script async src=\"//platform.twitter.com/widgets.js\" charset=\"utf-8\"></script>"
     ],
     "language": "python",
     "metadata": {},
     "outputs": [
      {
       "html": [
        "<blockquote class=\"twitter-tweet\" lang=\"en\"><p>GCC dependency hell, resolved!</p>&mdash; gully_ (@gully_) <a href=\"https://twitter.com/gully_/status/516082823112192001\">September 28, 2014</a></blockquote>\n",
        "<script async src=\"//platform.twitter.com/widgets.js\" charset=\"utf-8\"></script>"
       ],
       "metadata": {},
       "output_type": "display_data",
       "text": [
        "<IPython.core.display.HTML at 0x103512490>"
       ]
      }
     ],
     "prompt_number": 10
    },
    {
     "cell_type": "markdown",
     "metadata": {
      "slideshow": {
       "slide_type": "slide"
      }
     },
     "source": [
      "#<center>Homebrew is for OSX</center>"
     ]
    },
    {
     "cell_type": "code",
     "collapsed": false,
     "input": [
      "%%html\n",
      "<iframe src=http://brew.sh width=900 height=275></iframe>"
     ],
     "language": "python",
     "metadata": {
      "slideshow": {
       "slide_type": "skip"
      }
     },
     "outputs": [
      {
       "html": [
        "<iframe src=http://brew.sh width=900 height=275></iframe>"
       ],
       "metadata": {},
       "output_type": "display_data",
       "text": [
        "<IPython.core.display.HTML at 0x103512210>"
       ]
      }
     ],
     "prompt_number": 11
    },
    {
     "cell_type": "code",
     "collapsed": false,
     "input": [
      "! brew update"
     ],
     "language": "python",
     "metadata": {
      "slideshow": {
       "slide_type": "subslide"
      }
     },
     "outputs": [
      {
       "output_type": "stream",
       "stream": "stdout",
       "text": [
        "Already up-to-date.\r\n"
       ]
      }
     ],
     "prompt_number": 12
    },
    {
     "cell_type": "code",
     "collapsed": false,
     "input": [
      "! brew list"
     ],
     "language": "python",
     "metadata": {
      "slideshow": {
       "slide_type": "subslide"
      }
     },
     "outputs": [
      {
       "output_type": "stream",
       "stream": "stdout",
       "text": [
        "autoconf\tgmp4\t\tlibtiff\t\tngrep\t\twget\r\n",
        "automake\tisl011\t\tlibtool\t\topenssl\t\tx264\r\n",
        "brew-cask\tjpeg\t\tlibxml2\t\tossp-uuid\txvid\r\n",
        "cloog018\tlame\t\tlibxslt\t\tpkg-config\txz\r\n",
        "faac\t\tlibgpg-error\tlibyaml\t\treadline\tyasm\r\n",
        "ffmpeg\t\tlibksba\t\tmakedepend\truby193\t\tzlib\r\n",
        "gdbm\t\tlibmpc08\tmpfr2\t\ttree\r\n"
       ]
      }
     ],
     "prompt_number": 13
    },
    {
     "cell_type": "code",
     "collapsed": false,
     "input": [
      "! brew search git"
     ],
     "language": "python",
     "metadata": {
      "slideshow": {
       "slide_type": "subslide"
      }
     },
     "outputs": [
      {
       "output_type": "stream",
       "stream": "stdout",
       "text": [
        "bagit\t\t    git-extras\t\tgit-number\t    giter8\r\n",
        "bash-git-prompt\t    git-flow\t\tgit-open\t    gitfs\r\n",
        "easy-git\t    git-flow-avh\tgit-review\t    github-release\r\n",
        "geogit\t\t    git-flow-clone\tgit-sh\t\t    gitslave\r\n",
        "git\t\t    git-ftp\t\tgit-ssh\t\t    legit\r\n",
        "git-annex\t    git-gerrit\t\tgit-tf\t\t    libgit2\r\n",
        "git-archive-all\t    git-imerge\t\tgit-tf-2.0.2\t    libgit2-glib\r\n",
        "git-cal\t\t    git-integration\tgit-tig\t\t    magit\r\n",
        "git-cola\t    git-latexdiff\tgit-tracker\t    stgit\r\n",
        "git-crypt\t    git-multipush\tgit-url-sub\t    topgit\r\n",
        "git-encrypt\t    git-now\t\tgitbucket\r\n"
       ]
      },
      {
       "output_type": "stream",
       "stream": "stdout",
       "text": [
        "homebrew/binary/subgit\t\t\tCaskroom/cask/gity\r\n",
        "Caskroom/cask/adobe-digital-editions\tCaskroom/cask/laullon-gitx\r\n",
        "Caskroom/cask/git-annex\t\t\tCaskroom/cask/logitech-control-center\r\n",
        "Caskroom/cask/gitbook\t\t\tCaskroom/cask/logitech-gaming-software\r\n",
        "Caskroom/cask/gitbox\t\t\tCaskroom/cask/logitech-harmony\r\n",
        "Caskroom/cask/github\t\t\tCaskroom/cask/logitech-myharmony\r\n",
        "Caskroom/cask/githubpulse\t\tCaskroom/cask/logitech-unifying\r\n",
        "Caskroom/cask/gitifier\t\t\tCaskroom/cask/rowanj-gitx\r\n",
        "Caskroom/cask/gitter\t\t\tCaskroom/cask/smartgit\r\n",
        "Caskroom/cask/gitx\t\t\tCaskroom/cask/snagit\r\n"
       ]
      }
     ],
     "prompt_number": 14
    },
    {
     "cell_type": "markdown",
     "metadata": {
      "slideshow": {
       "slide_type": "slide"
      }
     },
     "source": [
      "#<center>Conda/ anaconda is for Python</center>"
     ]
    },
    {
     "cell_type": "code",
     "collapsed": false,
     "input": [
      "%%html\n",
      "<blockquote class=\"twitter-tweet\" lang=\"en\"><p>You misspelled &quot;conda.&quot;&#10;<a href=\"https://twitter.com/fonnesbeck\">@fonnesbeck</a>&#10;$ brew uninstall python&#10;$ brew install python3&#10;<a href=\"https://twitter.com/hashtag/anaconda?src=hash\">#anaconda</a></p>&mdash; Stephen Pimentel (@StephenPiment) <a href=\"https://twitter.com/StephenPiment/status/526422986023505920\">October 26, 2014</a></blockquote>\n",
      "<script async src=\"//platform.twitter.com/widgets.js\" charset=\"utf-8\"></script>"
     ],
     "language": "python",
     "metadata": {},
     "outputs": [
      {
       "html": [
        "<blockquote class=\"twitter-tweet\" lang=\"en\"><p>You misspelled &quot;conda.&quot;&#10;<a href=\"https://twitter.com/fonnesbeck\">@fonnesbeck</a>&#10;$ brew uninstall python&#10;$ brew install python3&#10;<a href=\"https://twitter.com/hashtag/anaconda?src=hash\">#anaconda</a></p>&mdash; Stephen Pimentel (@StephenPiment) <a href=\"https://twitter.com/StephenPiment/status/526422986023505920\">October 26, 2014</a></blockquote>\n",
        "<script async src=\"//platform.twitter.com/widgets.js\" charset=\"utf-8\"></script>"
       ],
       "metadata": {},
       "output_type": "display_data",
       "text": [
        "<IPython.core.display.HTML at 0x103512f90>"
       ]
      }
     ],
     "prompt_number": 15
    },
    {
     "cell_type": "code",
     "collapsed": false,
     "input": [
      "%%html\n",
      "<blockquote class=\"twitter-tweet\" lang=\"en\"><p>astropy 0.4.2 is now available on all platforms via conda! Use &#39;conda update astropy&#39; to get the new version. <a href=\"https://twitter.com/hashtag/Python?src=hash\">#Python</a> <a href=\"https://twitter.com/hashtag/PyData?src=hash\">#PyData</a></p>&mdash; Continuum Analytics (@ContinuumIO) <a href=\"https://twitter.com/ContinuumIO/status/514540484572622848\">September 23, 2014</a></blockquote>\n",
      "<script async src=\"//platform.twitter.com/widgets.js\" charset=\"utf-8\"></script>"
     ],
     "language": "python",
     "metadata": {},
     "outputs": [
      {
       "html": [
        "<blockquote class=\"twitter-tweet\" lang=\"en\"><p>astropy 0.4.2 is now available on all platforms via conda! Use &#39;conda update astropy&#39; to get the new version. <a href=\"https://twitter.com/hashtag/Python?src=hash\">#Python</a> <a href=\"https://twitter.com/hashtag/PyData?src=hash\">#PyData</a></p>&mdash; Continuum Analytics (@ContinuumIO) <a href=\"https://twitter.com/ContinuumIO/status/514540484572622848\">September 23, 2014</a></blockquote>\n",
        "<script async src=\"//platform.twitter.com/widgets.js\" charset=\"utf-8\"></script>"
       ],
       "metadata": {},
       "output_type": "display_data",
       "text": [
        "<IPython.core.display.HTML at 0x103512250>"
       ]
      }
     ],
     "prompt_number": 16
    },
    {
     "cell_type": "code",
     "collapsed": false,
     "input": [
      "%%html \n",
      "<blockquote class=\"twitter-tweet\" lang=\"en\"><p>I know I say this a lot, but seriously: if you use <a href=\"https://twitter.com/hashtag/python?src=hash\">#python</a>, you should be using <a href=\"https://twitter.com/hashtag/conda?src=hash\">#conda</a>: <a href=\"http://t.co/dCFIIMTRfr\">http://t.co/dCFIIMTRfr</a>. HUGE time saver, every day</p>&mdash; Lila Hickey (@LilaHickey) <a href=\"https://twitter.com/LilaHickey/status/516723990887297024\">September 29, 2014</a></blockquote>\n",
      "<script async src=\"//platform.twitter.com/widgets.js\" charset=\"utf-8\"></script>"
     ],
     "language": "python",
     "metadata": {},
     "outputs": [
      {
       "html": [
        "<blockquote class=\"twitter-tweet\" lang=\"en\"><p>I know I say this a lot, but seriously: if you use <a href=\"https://twitter.com/hashtag/python?src=hash\">#python</a>, you should be using <a href=\"https://twitter.com/hashtag/conda?src=hash\">#conda</a>: <a href=\"http://t.co/dCFIIMTRfr\">http://t.co/dCFIIMTRfr</a>. HUGE time saver, every day</p>&mdash; Lila Hickey (@LilaHickey) <a href=\"https://twitter.com/LilaHickey/status/516723990887297024\">September 29, 2014</a></blockquote>\n",
        "<script async src=\"//platform.twitter.com/widgets.js\" charset=\"utf-8\"></script>"
       ],
       "metadata": {},
       "output_type": "display_data",
       "text": [
        "<IPython.core.display.HTML at 0x1035123d0>"
       ]
      }
     ],
     "prompt_number": 17
    },
    {
     "cell_type": "code",
     "collapsed": false,
     "input": [
      "%%html\n",
      "<blockquote class=\"twitter-tweet\" lang=\"en\"><p>The statistical data visualization library &quot;seaborn&quot; is now available via conda. Use &quot;conda install seaborn&quot; to get it! <a href=\"https://twitter.com/hashtag/Conda?src=hash\">#Conda</a></p>&mdash; Continuum Analytics (@ContinuumIO) <a href=\"https://twitter.com/ContinuumIO/status/535470339523092480\">November 20, 2014</a></blockquote>\n",
      "<script async src=\"//platform.twitter.com/widgets.js\" charset=\"utf-8\"></script>"
     ],
     "language": "python",
     "metadata": {},
     "outputs": [
      {
       "html": [
        "<blockquote class=\"twitter-tweet\" lang=\"en\"><p>The statistical data visualization library &quot;seaborn&quot; is now available via conda. Use &quot;conda install seaborn&quot; to get it! <a href=\"https://twitter.com/hashtag/Conda?src=hash\">#Conda</a></p>&mdash; Continuum Analytics (@ContinuumIO) <a href=\"https://twitter.com/ContinuumIO/status/535470339523092480\">November 20, 2014</a></blockquote>\n",
        "<script async src=\"//platform.twitter.com/widgets.js\" charset=\"utf-8\"></script>"
       ],
       "metadata": {},
       "output_type": "display_data",
       "text": [
        "<IPython.core.display.HTML at 0x1035122d0>"
       ]
      }
     ],
     "prompt_number": 18
    },
    {
     "cell_type": "code",
     "collapsed": false,
     "input": [
      "! conda update conda"
     ],
     "language": "python",
     "metadata": {
      "slideshow": {
       "slide_type": "subslide"
      }
     },
     "outputs": [
      {
       "output_type": "stream",
       "stream": "stdout",
       "text": [
        "Fetching package metadata: "
       ]
      },
      {
       "output_type": "stream",
       "stream": "stdout",
       "text": [
        "."
       ]
      },
      {
       "output_type": "stream",
       "stream": "stdout",
       "text": [
        ".\r\n"
       ]
      },
      {
       "output_type": "stream",
       "stream": "stdout",
       "text": [
        "# All requested packages already installed.\r\n",
        "# packages in environment at /Users/gully/anaconda:\r\n",
        "#\r\n"
       ]
      },
      {
       "output_type": "stream",
       "stream": "stdout",
       "text": [
        "conda                     3.8.3                    py27_0  \r\n"
       ]
      }
     ],
     "prompt_number": 19
    },
    {
     "cell_type": "code",
     "collapsed": false,
     "input": [
      "! conda update anaconda"
     ],
     "language": "python",
     "metadata": {
      "slideshow": {
       "slide_type": "subslide"
      }
     },
     "outputs": [
      {
       "output_type": "stream",
       "stream": "stdout",
       "text": [
        "Fetching package metadata: "
       ]
      },
      {
       "output_type": "stream",
       "stream": "stdout",
       "text": [
        "."
       ]
      },
      {
       "output_type": "stream",
       "stream": "stdout",
       "text": [
        ".\r\n"
       ]
      },
      {
       "output_type": "stream",
       "stream": "stdout",
       "text": [
        "# All requested packages already installed.\r\n",
        "# packages in environment at /Users/gully/anaconda:\r\n",
        "#\r\n",
        "anaconda                  2.1.0                np19py27_0  \r\n"
       ]
      }
     ],
     "prompt_number": 20
    },
    {
     "cell_type": "code",
     "collapsed": false,
     "input": [
      "! conda info -e"
     ],
     "language": "python",
     "metadata": {
      "slideshow": {
       "slide_type": "subslide"
      }
     },
     "outputs": [
      {
       "output_type": "stream",
       "stream": "stdout",
       "text": [
        "# conda environments:\r\n",
        "#\r\n",
        "bokehFIX                 /Users/gully/anaconda/envs/bokehFIX\r\n",
        "bokehIPy                 /Users/gully/anaconda/envs/bokehIPy\r\n",
        "py3.3                    /Users/gully/anaconda/envs/py3.3\r\n",
        "root                  *  /Users/gully/anaconda\r\n",
        "\r\n"
       ]
      }
     ],
     "prompt_number": 21
    },
    {
     "cell_type": "markdown",
     "metadata": {},
     "source": [
      "#<center>There is IPython Notebook for IDL</center>"
     ]
    },
    {
     "cell_type": "code",
     "collapsed": false,
     "input": [
      "%%html  \n",
      "<blockquote class=\"twitter-tweet\" lang=\"en\"><p><a href=\"https://twitter.com/ebellm\">@ebellm</a> whyyyyy &quot;<a href=\"https://twitter.com/gully_\">@gully_</a>: IDL magic in IPython Notebook, WAT.&quot;&#10;&#10;<a href=\"http://t.co/NaMsqGhmuz\">http://t.co/NaMsqGhmuz</a></p>&mdash; Kyle Barbary (@kylebarbary) <a href=\"https://twitter.com/kylebarbary/status/504105689073975296\">August 26, 2014</a></blockquote>\n",
      "<script async src=\"//platform.twitter.com/widgets.js\" charset=\"utf-8\"></script>"
     ],
     "language": "python",
     "metadata": {
      "slideshow": {
       "slide_type": "slide"
      }
     },
     "outputs": [
      {
       "html": [
        "<blockquote class=\"twitter-tweet\" lang=\"en\"><p><a href=\"https://twitter.com/ebellm\">@ebellm</a> whyyyyy &quot;<a href=\"https://twitter.com/gully_\">@gully_</a>: IDL magic in IPython Notebook, WAT.&quot;&#10;&#10;<a href=\"http://t.co/NaMsqGhmuz\">http://t.co/NaMsqGhmuz</a></p>&mdash; Kyle Barbary (@kylebarbary) <a href=\"https://twitter.com/kylebarbary/status/504105689073975296\">August 26, 2014</a></blockquote>\n",
        "<script async src=\"//platform.twitter.com/widgets.js\" charset=\"utf-8\"></script>"
       ],
       "metadata": {},
       "output_type": "display_data",
       "text": [
        "<IPython.core.display.HTML at 0x103512150>"
       ]
      }
     ],
     "prompt_number": 22
    },
    {
     "cell_type": "markdown",
     "metadata": {
      "slideshow": {
       "slide_type": "slide"
      }
     },
     "source": [
      "#<center>tlmgr</center>"
     ]
    },
    {
     "cell_type": "code",
     "collapsed": false,
     "input": [
      "! tlmgr update --list"
     ],
     "language": "python",
     "metadata": {
      "slideshow": {
       "slide_type": "subslide"
      }
     },
     "outputs": [
      {
       "output_type": "stream",
       "stream": "stdout",
       "text": [
        "tlmgr: package repository http://ctan.sharelatex.com/tex-archive/systems/texlive/tlnet\r\n",
        "tlmgr: saving backups to /usr/local/texlive/2014/tlpkg/backups\r\n"
       ]
      },
      {
       "output_type": "stream",
       "stream": "stdout",
       "text": [
        "update:   dozenal            [393k]: local:    36127, source:    36157\r\n",
        "update:   mcmthesis          [358k]: local:    36111, source:    36165\r\n",
        "update:   resphilosophica    [538k]: local:    36074, source:    36159\r\n",
        "update:   tex4ht             [840k]: local:    36150, source:    36164\r\n",
        "update:   texlive-docindex   [209k]: local:    36141, source:    36162\r\n",
        "autoinst: begingreek         [703k]: local: <absent>, source:    36158\r\n",
        "update:   collection-langgreek [1k]: local:    31679, source:    36158\r\n"
       ]
      }
     ],
     "prompt_number": 23
    },
    {
     "cell_type": "markdown",
     "metadata": {},
     "source": [
      "#<center>git</center>"
     ]
    },
    {
     "cell_type": "code",
     "collapsed": false,
     "input": [
      "! which git"
     ],
     "language": "python",
     "metadata": {},
     "outputs": [
      {
       "output_type": "stream",
       "stream": "stdout",
       "text": [
        "/usr/local/git/bin/git\r\n"
       ]
      }
     ],
     "prompt_number": 24
    },
    {
     "cell_type": "code",
     "collapsed": false,
     "input": [
      "!which git"
     ],
     "language": "python",
     "metadata": {},
     "outputs": [
      {
       "output_type": "stream",
       "stream": "stdout",
       "text": [
        "/usr/local/git/bin/git\r\n"
       ]
      }
     ],
     "prompt_number": 25
    },
    {
     "cell_type": "code",
     "collapsed": false,
     "input": [
      "!git status"
     ],
     "language": "python",
     "metadata": {},
     "outputs": [
      {
       "output_type": "stream",
       "stream": "stdout",
       "text": [
        "# On branch master\r\n",
        "# Changes not staged for commit:\r\n",
        "#   (use \"git add <file>...\" to update what will be committed)\r\n",
        "#   (use \"git checkout -- <file>...\" to discard changes in working directory)\r\n",
        "#\r\n",
        "#\t\u001b[32mmodified:   GSPS_gully_Jan2015.ipynb\u001b[m\r\n",
        "#\r\n",
        "# Untracked files:\r\n",
        "#   (use \"git add <file>...\" to include in what will be committed)\r\n",
        "#\r\n",
        "#\t\u001b[36m.ipynb_checkpoints/\u001b[m\r\n",
        "no changes added to commit (use \"git add\" and/or \"git commit -a\")\r\n"
       ]
      }
     ],
     "prompt_number": 26
    },
    {
     "cell_type": "code",
     "collapsed": false,
     "input": [
      "%%html\n",
      "<blockquote class=\"twitter-tweet\" lang=\"en\"><p>Just helped one of my students set up git bullgittery</p>&mdash; Philip Guo (@pgbovine) <a href=\"https://twitter.com/pgbovine/status/527144889033961472\">October 28, 2014</a></blockquote>\n",
      "<script async src=\"//platform.twitter.com/widgets.js\" charset=\"utf-8\"></script>"
     ],
     "language": "python",
     "metadata": {
      "slideshow": {
       "slide_type": "slide"
      }
     },
     "outputs": [
      {
       "html": [
        "<blockquote class=\"twitter-tweet\" lang=\"en\"><p>Just helped one of my students set up git bullgittery</p>&mdash; Philip Guo (@pgbovine) <a href=\"https://twitter.com/pgbovine/status/527144889033961472\">October 28, 2014</a></blockquote>\n",
        "<script async src=\"//platform.twitter.com/widgets.js\" charset=\"utf-8\"></script>"
       ],
       "metadata": {},
       "output_type": "display_data",
       "text": [
        "<IPython.core.display.HTML at 0x103512ad0>"
       ]
      }
     ],
     "prompt_number": 27
    },
    {
     "cell_type": "code",
     "collapsed": false,
     "input": [
      "%%html\n",
      "<blockquote class=\"twitter-tweet\" lang=\"en\"><p>&quot;40% of astronomers have no training for their job.&quot; <a href=\"https://twitter.com/eteq\">@eteq</a> <a href=\"https://twitter.com/hashtag/dotastro?src=hash\">#dotastro</a> <a href=\"http://t.co/eLyoeIklH2\">pic.twitter.com/eLyoeIklH2</a></p>&mdash; Meredith Rawls (@merrdiff) <a href=\"https://twitter.com/merrdiff/status/542710213770354689\">December 10, 2014</a></blockquote>\n",
      "<script async src=\"//platform.twitter.com/widgets.js\" charset=\"utf-8\"></script>"
     ],
     "language": "python",
     "metadata": {},
     "outputs": [
      {
       "html": [
        "<blockquote class=\"twitter-tweet\" lang=\"en\"><p>&quot;40% of astronomers have no training for their job.&quot; <a href=\"https://twitter.com/eteq\">@eteq</a> <a href=\"https://twitter.com/hashtag/dotastro?src=hash\">#dotastro</a> <a href=\"http://t.co/eLyoeIklH2\">pic.twitter.com/eLyoeIklH2</a></p>&mdash; Meredith Rawls (@merrdiff) <a href=\"https://twitter.com/merrdiff/status/542710213770354689\">December 10, 2014</a></blockquote>\n",
        "<script async src=\"//platform.twitter.com/widgets.js\" charset=\"utf-8\"></script>"
       ],
       "metadata": {},
       "output_type": "display_data",
       "text": [
        "<IPython.core.display.HTML at 0x103512190>"
       ]
      }
     ],
     "prompt_number": 28
    },
    {
     "cell_type": "markdown",
     "metadata": {},
     "source": [
      "#<center>Code Reviews </center>"
     ]
    },
    {
     "cell_type": "markdown",
     "metadata": {},
     "source": [
      "### Does your group have code reviews?  Should we have have opt-in code reviews in the Department?  If so, when?"
     ]
    },
    {
     "cell_type": "markdown",
     "metadata": {},
     "source": [
      "<center>Things I won't walk about: cyber security</center>"
     ]
    },
    {
     "cell_type": "code",
     "collapsed": false,
     "input": [
      "'''\n",
      "%%html\n",
      "<blockquote class=\"twitter-tweet\" lang=\"en\"><p>it&#39;s humbling to vi your /var/log/secure.log file. thousands of failed login attempts on my computer.</p>&mdash; gully_ (@gully_) <a href=\"https://twitter.com/gully_/status/458968621448843265\">April 23, 2014</a></blockquote>\n",
      "<script async src=\"//platform.twitter.com/widgets.js\" charset=\"utf-8\"></script>\n",
      "'''"
     ],
     "language": "python",
     "metadata": {},
     "outputs": [
      {
       "metadata": {},
       "output_type": "pyout",
       "prompt_number": 29,
       "text": [
        "'\\n%%html\\n<blockquote class=\"twitter-tweet\" lang=\"en\"><p>it&#39;s humbling to vi your /var/log/secure.log file. thousands of failed login attempts on my computer.</p>&mdash; gully_ (@gully_) <a href=\"https://twitter.com/gully_/status/458968621448843265\">April 23, 2014</a></blockquote>\\n<script async src=\"//platform.twitter.com/widgets.js\" charset=\"utf-8\"></script>\\n'"
       ]
      }
     ],
     "prompt_number": 29
    },
    {
     "cell_type": "markdown",
     "metadata": {
      "slideshow": {
       "slide_type": "slide"
      }
     },
     "source": [
      "#<center> The GitHub <center>\n",
      "\n"
     ]
    },
    {
     "cell_type": "markdown",
     "metadata": {
      "slideshow": {
       "slide_type": "slide"
      }
     },
     "source": [
      "I like people who are working on practical things and are working in teams.  It's not so important to get the glory.  It's much more important to get something that works.  It's a better way to live.\n",
      "\n",
      "*-Freeman Dyson*"
     ]
    },
    {
     "cell_type": "code",
     "collapsed": false,
     "input": [
      "%%html\n",
      "<blockquote class=\"twitter-tweet\" lang=\"en\"><p><a href=\"https://twitter.com/hashtag/spieastro?src=hash\">#spieastro</a> first comment in discussion: &quot;how to share software? Put it on <a href=\"https://twitter.com/github\">@github</a>&quot;. Word!</p>&mdash; Sarah Kendrew (@sarahkendrew) <a href=\"https://twitter.com/sarahkendrew/status/480821751224745984\">June 22, 2014</a></blockquote>\n",
      "<script async src=\"//platform.twitter.com/widgets.js\" charset=\"utf-8\"></script>"
     ],
     "language": "python",
     "metadata": {},
     "outputs": [
      {
       "html": [
        "<blockquote class=\"twitter-tweet\" lang=\"en\"><p><a href=\"https://twitter.com/hashtag/spieastro?src=hash\">#spieastro</a> first comment in discussion: &quot;how to share software? Put it on <a href=\"https://twitter.com/github\">@github</a>&quot;. Word!</p>&mdash; Sarah Kendrew (@sarahkendrew) <a href=\"https://twitter.com/sarahkendrew/status/480821751224745984\">June 22, 2014</a></blockquote>\n",
        "<script async src=\"//platform.twitter.com/widgets.js\" charset=\"utf-8\"></script>"
       ],
       "metadata": {},
       "output_type": "display_data",
       "text": [
        "<IPython.core.display.HTML at 0x103512fd0>"
       ]
      }
     ],
     "prompt_number": 30
    },
    {
     "cell_type": "code",
     "collapsed": false,
     "input": [
      "%%html\n",
      "<blockquote class=\"twitter-tweet\" lang=\"en\"><p>There&#39;s a software sharing wiki called astroshare (<a href=\"http://t.co/ohUX27oRlw\">http://t.co/ohUX27oRlw</a>). Not used much tho. <a href=\"https://twitter.com/hashtag/spieastro?src=hash\">#spieastro</a></p>&mdash; Sarah Kendrew (@sarahkendrew) <a href=\"https://twitter.com/sarahkendrew/status/480819468256694272\">June 22, 2014</a></blockquote>\n",
      "<script async src=\"//platform.twitter.com/widgets.js\" charset=\"utf-8\"></script>"
     ],
     "language": "python",
     "metadata": {},
     "outputs": [
      {
       "html": [
        "<blockquote class=\"twitter-tweet\" lang=\"en\"><p>There&#39;s a software sharing wiki called astroshare (<a href=\"http://t.co/ohUX27oRlw\">http://t.co/ohUX27oRlw</a>). Not used much tho. <a href=\"https://twitter.com/hashtag/spieastro?src=hash\">#spieastro</a></p>&mdash; Sarah Kendrew (@sarahkendrew) <a href=\"https://twitter.com/sarahkendrew/status/480819468256694272\">June 22, 2014</a></blockquote>\n",
        "<script async src=\"//platform.twitter.com/widgets.js\" charset=\"utf-8\"></script>"
       ],
       "metadata": {},
       "output_type": "display_data",
       "text": [
        "<IPython.core.display.HTML at 0x101f9dcd0>"
       ]
      }
     ],
     "prompt_number": 31
    },
    {
     "cell_type": "markdown",
     "metadata": {},
     "source": [
      "## Comparison of GitHub, Astronomy Source Code Library, and BitBucket on ArXiV\n",
      "http://bit.ly/1CIaeZF"
     ]
    },
    {
     "cell_type": "code",
     "collapsed": false,
     "input": [
      "%%html\n",
      "<iframe src=http://bit.ly/1CIaeZF width=900 height=600></iframe>"
     ],
     "language": "python",
     "metadata": {},
     "outputs": [
      {
       "html": [
        "<iframe src=http://bit.ly/1CIaeZF width=900 height=600></iframe>"
       ],
       "metadata": {},
       "output_type": "display_data",
       "text": [
        "<IPython.core.display.HTML at 0x10351c190>"
       ]
      }
     ],
     "prompt_number": 32
    },
    {
     "cell_type": "markdown",
     "metadata": {},
     "source": [
      "Fact:\n",
      "- Some people write their papers on GitHub:\n",
      "\n",
      "##https://github.com/dfm/exopop"
     ]
    },
    {
     "cell_type": "code",
     "collapsed": false,
     "input": [
      "%%html\n",
      "<blockquote class=\"twitter-tweet\" lang=\"en\"><p>as promised\u2026all of my custom <a href=\"https://twitter.com/hashtag/IDL?src=hash\">#IDL</a> code on <a href=\"https://twitter.com/github\">@github</a>. <a href=\"https://t.co/momJ2oAOpY\">https://t.co/momJ2oAOpY</a> <a href=\"https://twitter.com/jradavenport\">@jradavenport</a></p>&mdash; Kelle Cruz (@kellecruz) <a href=\"https://twitter.com/kellecruz/status/541352634746437632\">December 6, 2014</a></blockquote>\n",
      "<script async src=\"//platform.twitter.com/widgets.js\" charset=\"utf-8\"></script>"
     ],
     "language": "python",
     "metadata": {},
     "outputs": [
      {
       "html": [
        "<blockquote class=\"twitter-tweet\" lang=\"en\"><p>as promised\u2026all of my custom <a href=\"https://twitter.com/hashtag/IDL?src=hash\">#IDL</a> code on <a href=\"https://twitter.com/github\">@github</a>. <a href=\"https://t.co/momJ2oAOpY\">https://t.co/momJ2oAOpY</a> <a href=\"https://twitter.com/jradavenport\">@jradavenport</a></p>&mdash; Kelle Cruz (@kellecruz) <a href=\"https://twitter.com/kellecruz/status/541352634746437632\">December 6, 2014</a></blockquote>\n",
        "<script async src=\"//platform.twitter.com/widgets.js\" charset=\"utf-8\"></script>"
       ],
       "metadata": {},
       "output_type": "display_data",
       "text": [
        "<IPython.core.display.HTML at 0x103512390>"
       ]
      }
     ],
     "prompt_number": 33
    },
    {
     "cell_type": "code",
     "collapsed": false,
     "input": [
      "%%html\n",
      "<blockquote class=\"twitter-tweet\" lang=\"en\"><p>How <a href=\"https://twitter.com/NASAJPL\">@NASAJPL</a> uses GitHub: <a href=\"https://t.co/stwkcX3wRC\">https://t.co/stwkcX3wRC</a></p>&mdash; Arfon Smith (@arfon) <a href=\"https://twitter.com/arfon/status/540609622373986304\">December 4, 2014</a></blockquote>\n",
      "<script async src=\"//platform.twitter.com/widgets.js\" charset=\"utf-8\"></script>"
     ],
     "language": "python",
     "metadata": {},
     "outputs": [
      {
       "html": [
        "<blockquote class=\"twitter-tweet\" lang=\"en\"><p>How <a href=\"https://twitter.com/NASAJPL\">@NASAJPL</a> uses GitHub: <a href=\"https://t.co/stwkcX3wRC\">https://t.co/stwkcX3wRC</a></p>&mdash; Arfon Smith (@arfon) <a href=\"https://twitter.com/arfon/status/540609622373986304\">December 4, 2014</a></blockquote>\n",
        "<script async src=\"//platform.twitter.com/widgets.js\" charset=\"utf-8\"></script>"
       ],
       "metadata": {},
       "output_type": "display_data",
       "text": [
        "<IPython.core.display.HTML at 0x1039ae050>"
       ]
      }
     ],
     "prompt_number": 34
    },
    {
     "cell_type": "code",
     "collapsed": false,
     "input": [
      "%%html \n",
      "<blockquote class=\"twitter-tweet\" lang=\"en\"><p><a href=\"https://twitter.com/jegpeek\">@jegpeek</a>&#10;\u2022 Explore data in nb&#10;\u2022 Move useful code to a package&#10;\u2022 Demo new results in nb&#10;\u2022 Push to github&amp; send nbviewer link to collaborators</p>&mdash; Jake Vanderplas (@jakevdp) <a href=\"https://twitter.com/jakevdp/status/530436019921752064\">November 6, 2014</a></blockquote>\n",
      "<script async src=\"//platform.twitter.com/widgets.js\" charset=\"utf-8\"></script>"
     ],
     "language": "python",
     "metadata": {
      "slideshow": {
       "slide_type": "slide"
      }
     },
     "outputs": [
      {
       "html": [
        "<blockquote class=\"twitter-tweet\" lang=\"en\"><p><a href=\"https://twitter.com/jegpeek\">@jegpeek</a>&#10;\u2022 Explore data in nb&#10;\u2022 Move useful code to a package&#10;\u2022 Demo new results in nb&#10;\u2022 Push to github&amp; send nbviewer link to collaborators</p>&mdash; Jake Vanderplas (@jakevdp) <a href=\"https://twitter.com/jakevdp/status/530436019921752064\">November 6, 2014</a></blockquote>\n",
        "<script async src=\"//platform.twitter.com/widgets.js\" charset=\"utf-8\"></script>"
       ],
       "metadata": {},
       "output_type": "display_data",
       "text": [
        "<IPython.core.display.HTML at 0x1039ae090>"
       ]
      }
     ],
     "prompt_number": 35
    },
    {
     "cell_type": "code",
     "collapsed": false,
     "input": [
      "%%html\n",
      "<blockquote class=\"twitter-tweet\" lang=\"en\"><p>Heading to Norway this week to give a short course at UiO on Python for data science! Check out the notebooks here: <a href=\"http://t.co/F4H3DeWZr3\">http://t.co/F4H3DeWZr3</a></p>&mdash; Jake Vanderplas (@jakevdp) <a href=\"https://twitter.com/jakevdp/status/539577605607788544\">December 2, 2014</a></blockquote>\n",
      "<script async src=\"//platform.twitter.com/widgets.js\" charset=\"utf-8\"></script>"
     ],
     "language": "python",
     "metadata": {},
     "outputs": [
      {
       "html": [
        "<blockquote class=\"twitter-tweet\" lang=\"en\"><p>Heading to Norway this week to give a short course at UiO on Python for data science! Check out the notebooks here: <a href=\"http://t.co/F4H3DeWZr3\">http://t.co/F4H3DeWZr3</a></p>&mdash; Jake Vanderplas (@jakevdp) <a href=\"https://twitter.com/jakevdp/status/539577605607788544\">December 2, 2014</a></blockquote>\n",
        "<script async src=\"//platform.twitter.com/widgets.js\" charset=\"utf-8\"></script>"
       ],
       "metadata": {},
       "output_type": "display_data",
       "text": [
        "<IPython.core.display.HTML at 0x1039ae0d0>"
       ]
      }
     ],
     "prompt_number": 36
    },
    {
     "cell_type": "markdown",
     "metadata": {},
     "source": [
      "### GitHub for science is making it much easier to reproduce, learn from, and build upon the work of others."
     ]
    },
    {
     "cell_type": "code",
     "collapsed": false,
     "input": [
      "%%html \n",
      "<blockquote class=\"twitter-tweet\" lang=\"en\"><p>My talk this morning: Three ideas we should steal from open source: <a href=\"https://t.co/aUuHVoyj8b\">https://t.co/aUuHVoyj8b</a> <a href=\"https://twitter.com/hashtag/dotastro?src=hash\">#dotastro</a> <a href=\"https://twitter.com/hashtag/openscience?src=hash\">#openscience</a> <a href=\"http://t.co/4SrJlDOqxO\">http://t.co/4SrJlDOqxO</a></p>&mdash; Arfon Smith (@arfon) <a href=\"https://twitter.com/arfon/status/542084626684968960\">December 8, 2014</a></blockquote>\n",
      "<script async src=\"//platform.twitter.com/widgets.js\" charset=\"utf-8\"></script>"
     ],
     "language": "python",
     "metadata": {},
     "outputs": [
      {
       "html": [
        "<blockquote class=\"twitter-tweet\" lang=\"en\"><p>My talk this morning: Three ideas we should steal from open source: <a href=\"https://t.co/aUuHVoyj8b\">https://t.co/aUuHVoyj8b</a> <a href=\"https://twitter.com/hashtag/dotastro?src=hash\">#dotastro</a> <a href=\"https://twitter.com/hashtag/openscience?src=hash\">#openscience</a> <a href=\"http://t.co/4SrJlDOqxO\">http://t.co/4SrJlDOqxO</a></p>&mdash; Arfon Smith (@arfon) <a href=\"https://twitter.com/arfon/status/542084626684968960\">December 8, 2014</a></blockquote>\n",
        "<script async src=\"//platform.twitter.com/widgets.js\" charset=\"utf-8\"></script>"
       ],
       "metadata": {},
       "output_type": "display_data",
       "text": [
        "<IPython.core.display.HTML at 0x1039ae110>"
       ]
      }
     ],
     "prompt_number": 37
    },
    {
     "cell_type": "code",
     "collapsed": false,
     "input": [
      "%%html\n",
      "<blockquote class=\"twitter-tweet\" lang=\"en\"><p>My slides from \u201cTraining Students to Extract Value from <a href=\"https://twitter.com/hashtag/BigData?src=hash\">#BigData</a>\u201d advocating a training mission around Data Literacy&#10;<a href=\"http://t.co/qJBDwR5C9X\">http://t.co/qJBDwR5C9X</a></p>&mdash; Joshua Bloom (@profjsb) <a href=\"https://twitter.com/profjsb/status/455571853377937409\">April 14, 2014</a></blockquote>\n",
      "<script async src=\"//platform.twitter.com/widgets.js\" charset=\"utf-8\"></script>"
     ],
     "language": "python",
     "metadata": {
      "slideshow": {
       "slide_type": "slide"
      }
     },
     "outputs": [
      {
       "html": [
        "<blockquote class=\"twitter-tweet\" lang=\"en\"><p>My slides from \u201cTraining Students to Extract Value from <a href=\"https://twitter.com/hashtag/BigData?src=hash\">#BigData</a>\u201d advocating a training mission around Data Literacy&#10;<a href=\"http://t.co/qJBDwR5C9X\">http://t.co/qJBDwR5C9X</a></p>&mdash; Joshua Bloom (@profjsb) <a href=\"https://twitter.com/profjsb/status/455571853377937409\">April 14, 2014</a></blockquote>\n",
        "<script async src=\"//platform.twitter.com/widgets.js\" charset=\"utf-8\"></script>"
       ],
       "metadata": {},
       "output_type": "display_data",
       "text": [
        "<IPython.core.display.HTML at 0x1039ae190>"
       ]
      }
     ],
     "prompt_number": 38
    },
    {
     "cell_type": "code",
     "collapsed": false,
     "input": [
      "%%html\n",
      "<blockquote class=\"twitter-tweet\" lang=\"en\"><p>workshop on tools for big data looks good, though the need for quote marks around machine learning are worrying <a href=\"http://t.co/o6tHRDb70J\">http://t.co/o6tHRDb70J</a></p>&mdash; Sarah Kendrew (@sarahkendrew) <a href=\"https://twitter.com/sarahkendrew/status/524508768227590144\">October 21, 2014</a></blockquote>\n",
      "<script async src=\"//platform.twitter.com/widgets.js\" charset=\"utf-8\"></script>"
     ],
     "language": "python",
     "metadata": {},
     "outputs": [
      {
       "html": [
        "<blockquote class=\"twitter-tweet\" lang=\"en\"><p>workshop on tools for big data looks good, though the need for quote marks around machine learning are worrying <a href=\"http://t.co/o6tHRDb70J\">http://t.co/o6tHRDb70J</a></p>&mdash; Sarah Kendrew (@sarahkendrew) <a href=\"https://twitter.com/sarahkendrew/status/524508768227590144\">October 21, 2014</a></blockquote>\n",
        "<script async src=\"//platform.twitter.com/widgets.js\" charset=\"utf-8\"></script>"
       ],
       "metadata": {},
       "output_type": "display_data",
       "text": [
        "<IPython.core.display.HTML at 0x1039ae290>"
       ]
      }
     ],
     "prompt_number": 39
    },
    {
     "cell_type": "markdown",
     "metadata": {},
     "source": [
      "The basic techniques of a modern scientific work flow should not come as a surprise to any of us.  The key idea is data **literacy**.  We don't necessarily need proficiency."
     ]
    },
    {
     "cell_type": "markdown",
     "metadata": {},
     "source": [
      "####<center>I won't talk about software licensing</center>"
     ]
    },
    {
     "cell_type": "code",
     "collapsed": false,
     "input": [
      "%%html\n",
      "<blockquote class=\"twitter-tweet\" lang=\"en\"><p>I was going to do some real work this morning, but there was a GPL vs. BSD email flame-war to attend to...</p>&mdash; Jake Vanderplas (@jakevdp) <a href=\"https://twitter.com/jakevdp/status/509036149780656128\">September 8, 2014</a></blockquote>\n",
      "<script async src=\"//platform.twitter.com/widgets.js\" charset=\"utf-8\"></script>"
     ],
     "language": "python",
     "metadata": {},
     "outputs": [
      {
       "html": [
        "<blockquote class=\"twitter-tweet\" lang=\"en\"><p>I was going to do some real work this morning, but there was a GPL vs. BSD email flame-war to attend to...</p>&mdash; Jake Vanderplas (@jakevdp) <a href=\"https://twitter.com/jakevdp/status/509036149780656128\">September 8, 2014</a></blockquote>\n",
        "<script async src=\"//platform.twitter.com/widgets.js\" charset=\"utf-8\"></script>"
       ],
       "metadata": {},
       "output_type": "display_data",
       "text": [
        "<IPython.core.display.HTML at 0x1039ae2d0>"
       ]
      }
     ],
     "prompt_number": 40
    },
    {
     "cell_type": "code",
     "collapsed": false,
     "input": [
      "%%html\n",
      "<blockquote class=\"twitter-tweet\" lang=\"en\"><p>Of the 1.6M randomly chosen repos that I&#39;ve downloaded off <a href=\"https://twitter.com/github\">@github</a>, only 15% have licenses &amp; here&#39;s the distribution: <a href=\"http://t.co/cKr8pTla8C\">pic.twitter.com/cKr8pTla8C</a></p>&mdash; Dan F-M (@exoplaneteer) <a href=\"https://twitter.com/exoplaneteer/status/547056929668075520\">December 22, 2014</a></blockquote>\n",
      "<script async src=\"//platform.twitter.com/widgets.js\" charset=\"utf-8\"></script>"
     ],
     "language": "python",
     "metadata": {},
     "outputs": [
      {
       "html": [
        "<blockquote class=\"twitter-tweet\" lang=\"en\"><p>Of the 1.6M randomly chosen repos that I&#39;ve downloaded off <a href=\"https://twitter.com/github\">@github</a>, only 15% have licenses &amp; here&#39;s the distribution: <a href=\"http://t.co/cKr8pTla8C\">pic.twitter.com/cKr8pTla8C</a></p>&mdash; Dan F-M (@exoplaneteer) <a href=\"https://twitter.com/exoplaneteer/status/547056929668075520\">December 22, 2014</a></blockquote>\n",
        "<script async src=\"//platform.twitter.com/widgets.js\" charset=\"utf-8\"></script>"
       ],
       "metadata": {},
       "output_type": "display_data",
       "text": [
        "<IPython.core.display.HTML at 0x1039ae310>"
       ]
      }
     ],
     "prompt_number": 41
    },
    {
     "cell_type": "markdown",
     "metadata": {
      "slideshow": {
       "slide_type": "slide"
      }
     },
     "source": [
      "# <center>The Internet</center>\n"
     ]
    },
    {
     "cell_type": "markdown",
     "metadata": {},
     "source": [
      "Code School is useful for learning git and GitHub.\n",
      "\n",
      "www.codeschool.com"
     ]
    },
    {
     "cell_type": "code",
     "collapsed": false,
     "input": [
      "%%html\n",
      "<iframe src=https://training.enthought.com/lectures width=900 height=600></iframe>"
     ],
     "language": "python",
     "metadata": {},
     "outputs": [
      {
       "html": [
        "<iframe src=https://training.enthought.com/lectures width=900 height=600></iframe>"
       ],
       "metadata": {},
       "output_type": "display_data",
       "text": [
        "<IPython.core.display.HTML at 0x1039ae350>"
       ]
      }
     ],
     "prompt_number": 42
    },
    {
     "cell_type": "code",
     "collapsed": false,
     "input": [
      "%%html\n",
      "<blockquote class=\"twitter-tweet\" lang=\"en\"><p>We surveyed 3,500 academics about social media use. Data free to download <a href=\"http://t.co/jA2fLuplpt\">http://t.co/jA2fLuplpt</a> <a href=\"http://t.co/bZm0sE3pGk\">pic.twitter.com/bZm0sE3pGk</a></p>&mdash; Nature News&amp;Comment (@NatureNews) <a href=\"https://twitter.com/NatureNews/status/499614929276907521\">August 13, 2014</a></blockquote>\n",
      "<script async src=\"//platform.twitter.com/widgets.js\" charset=\"utf-8\"></script>"
     ],
     "language": "python",
     "metadata": {},
     "outputs": [
      {
       "html": [
        "<blockquote class=\"twitter-tweet\" lang=\"en\"><p>We surveyed 3,500 academics about social media use. Data free to download <a href=\"http://t.co/jA2fLuplpt\">http://t.co/jA2fLuplpt</a> <a href=\"http://t.co/bZm0sE3pGk\">pic.twitter.com/bZm0sE3pGk</a></p>&mdash; Nature News&amp;Comment (@NatureNews) <a href=\"https://twitter.com/NatureNews/status/499614929276907521\">August 13, 2014</a></blockquote>\n",
        "<script async src=\"//platform.twitter.com/widgets.js\" charset=\"utf-8\"></script>"
       ],
       "metadata": {},
       "output_type": "display_data",
       "text": [
        "<IPython.core.display.HTML at 0x1039ae390>"
       ]
      }
     ],
     "prompt_number": 43
    },
    {
     "cell_type": "code",
     "collapsed": false,
     "input": [
      "%%html\n",
      "<blockquote class=\"twitter-tweet\" lang=\"en\"><p>Are there conferences bridging the gap between data scientists (who were astro) and active astronomers in terms of tech &amp; knowledge?</p>&mdash; Eli Bressert (@astrobiased) <a href=\"https://twitter.com/astrobiased/status/530606706397442048\">November 7, 2014</a></blockquote>\n",
      "<script async src=\"//platform.twitter.com/widgets.js\" charset=\"utf-8\"></script>"
     ],
     "language": "python",
     "metadata": {},
     "outputs": [
      {
       "html": [
        "<blockquote class=\"twitter-tweet\" lang=\"en\"><p>Are there conferences bridging the gap between data scientists (who were astro) and active astronomers in terms of tech &amp; knowledge?</p>&mdash; Eli Bressert (@astrobiased) <a href=\"https://twitter.com/astrobiased/status/530606706397442048\">November 7, 2014</a></blockquote>\n",
        "<script async src=\"//platform.twitter.com/widgets.js\" charset=\"utf-8\"></script>"
       ],
       "metadata": {},
       "output_type": "display_data",
       "text": [
        "<IPython.core.display.HTML at 0x1039ae3d0>"
       ]
      }
     ],
     "prompt_number": 44
    },
    {
     "cell_type": "code",
     "collapsed": false,
     "input": [
      "%%html\n",
      "<blockquote class=\"twitter-tweet\" lang=\"en\"><p>Fav IPython notebook imports:&#10;from __future__ import division&#10;import numpy&#10;import pandas&#10;import seaborn as sns&#10;sns.set(style=&quot;darkgrid&quot;)</p>&mdash; Eli Bressert (@astrobiased) <a href=\"https://twitter.com/astrobiased/status/494269347892703234\">July 29, 2014</a></blockquote>\n",
      "<script async src=\"//platform.twitter.com/widgets.js\" charset=\"utf-8\"></script>"
     ],
     "language": "python",
     "metadata": {},
     "outputs": [
      {
       "html": [
        "<blockquote class=\"twitter-tweet\" lang=\"en\"><p>Fav IPython notebook imports:&#10;from __future__ import division&#10;import numpy&#10;import pandas&#10;import seaborn as sns&#10;sns.set(style=&quot;darkgrid&quot;)</p>&mdash; Eli Bressert (@astrobiased) <a href=\"https://twitter.com/astrobiased/status/494269347892703234\">July 29, 2014</a></blockquote>\n",
        "<script async src=\"//platform.twitter.com/widgets.js\" charset=\"utf-8\"></script>"
       ],
       "metadata": {},
       "output_type": "display_data",
       "text": [
        "<IPython.core.display.HTML at 0x103512b50>"
       ]
      }
     ],
     "prompt_number": 45
    }
   ],
   "metadata": {}
  }
 ]
}