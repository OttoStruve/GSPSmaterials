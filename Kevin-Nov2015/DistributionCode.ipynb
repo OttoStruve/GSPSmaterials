{
 "cells": [
  {
   "cell_type": "markdown",
   "metadata": {
    "slideshow": {
     "slide_type": "slide"
    }
   },
   "source": [
    "# Packaging and Distributing Code (for python)\n",
    "\n",
    "## Kevin Gullikson"
   ]
  },
  {
   "cell_type": "markdown",
   "metadata": {
    "slideshow": {
     "slide_type": "slide"
    }
   },
   "source": [
    "# Why Package code?"
   ]
  },
  {
   "cell_type": "markdown",
   "metadata": {
    "slideshow": {
     "slide_type": "slide"
    }
   },
   "source": [
    "# Setting up a Python Package"
   ]
  },
  {
   "cell_type": "markdown",
   "metadata": {
    "slideshow": {
     "slide_type": "subslide"
    }
   },
   "source": [
    "#Minimal Package Structure\n",
    "\n",
    "```\n",
    "root\n",
    "+-- setup.py\n",
    "+-- README\n",
    "+-- LICENSE\n",
    "+-- package_name/\n",
    "|   +-- __init__.py\n",
    "|   +-- foo.py\n",
    "|   +-- bar.py\n",
    "\n",
    "```"
   ]
  },
  {
   "cell_type": "markdown",
   "metadata": {
    "slideshow": {
     "slide_type": "subslide"
    }
   },
   "source": [
    "## What is the `__init__.py`?\n",
    "\n",
    " - It tells pythons that this directory is a package\n",
    " - Does not need to have anything in it - an empty file is fine\n",
    " - Lets you do:\n",
    " \n",
    "```python\n",
    "import package_name\n",
    "package_name.foo.foofunction()\n",
    "```"
   ]
  },
  {
   "cell_type": "markdown",
   "metadata": {
    "slideshow": {
     "slide_type": "fragment"
    }
   },
   "source": [
    "- You CAN put some stuff in it, though. Putting this in the `__init__.py`\n",
    "```python\n",
    "from foo import foofunction\n",
    "```\n",
    "    Lets you do:\n",
    "```python\n",
    "import package_name\n",
    "package_name.foofunction()\n",
    "```"
   ]
  },
  {
   "cell_type": "markdown",
   "metadata": {
    "slideshow": {
     "slide_type": "subslide"
    }
   },
   "source": [
    "## What is the `setup.py`?\n",
    "\n",
    "- This tells python how to install the program\n",
    "- You have probably done this before:\n",
    "\n",
    "```bash\n",
    "python setup.py install\n",
    "```\n",
    "\n",
    "- [Here](https://pythonhosted.org/an_example_pypi_project/setuptools.html) is a good tutorial on setting it up.\n",
    "- An example of a setup.py I created:\n",
    "  \n",
    "```python\n",
    "from setuptools import setup\n",
    "\n",
    "setup(name='fitting_utilities',\n",
    "      version='0.1.0',\n",
    "      description='Various useful classes for fitting stuff.',\n",
    "      author='Kevin Gullikson',\n",
    "      author_email='kevin.gullikson@gmail.com',\n",
    "      license='BSD',\n",
    "      classifiers=[\n",
    "          'Development Status :: 3 - Alpha',\n",
    "          'Intended Audience :: Science/Research',\n",
    "          'License :: OSI Approved :: BSD License',\n",
    "          'Programming Language :: Python',\n",
    "          'Topic :: Scientific/Engineering :: Astronomy',\n",
    "          ],\n",
    "      packages=['fitters'])\n",
    "```"
   ]
  },
  {
   "cell_type": "markdown",
   "metadata": {
    "slideshow": {
     "slide_type": "subslide"
    }
   },
   "source": [
    "## `setup.py` arguments\n",
    "\n",
    "- name: This is what goes on pypi (more on that later)\n",
    "- classifiers: Think of these like the keywords you put in your abstract. You want to make your code searchable. A list of classifiers is available [here](https://pypi.python.org/pypi?%3Aaction=list_classifiers)\n",
    "- packages: In the simple/standard case, it is just a list of the packages you are making available. **This is the name you import**\n",
    "```python\n",
    "import fitters\n",
    "```\n",
    "NOT\n",
    "```python\n",
    "import fitting_utilities\n",
    "```\n",
    "  - Having different things for the 'name' and 'packages' field can lead to [confusion](https://github.com/dfm/corner.py/issues/59)"
   ]
  },
  {
   "cell_type": "markdown",
   "metadata": {
    "slideshow": {
     "slide_type": "subslide"
    }
   },
   "source": [
    "## Some final thoughts about package setup\n",
    "\n"
   ]
  },
  {
   "cell_type": "markdown",
   "metadata": {
    "slideshow": {
     "slide_type": "fragment"
    }
   },
   "source": [
    "- Always have a README\n",
    "  - github will initialize one for you when you make a repository\n",
    "  - github works with markdown or reStructured Text (.rst files)\n",
    "  - pypi only works with reStructured Text\n",
    "  - Write your README in .rst!"
   ]
  },
  {
   "cell_type": "markdown",
   "metadata": {
    "slideshow": {
     "slide_type": "fragment"
    }
   },
   "source": [
    "- Always have a LICENSE\n",
    "> \"Because I did not explicitly indicate a license, I declared an implicit copyright without explaining \n",
    "> how others could use my code. Since the code is unlicensed, I could theoretically assert copyright at \n",
    "> any time and demand that people stop using my code. Experienced developers won't touch unlicensed code\n",
    "> because they have no legal right to use it. That's ironic, considering the whole reason I posted the \n",
    "> code in the first place was so other developers could benefit from that code. I could have easily \n",
    "> avoided this unfortunate situation if I had done the right thing and included a software license with my code.\"\n",
    "> -- <cite>Jeff Atwood, [codinghorror](http://blog.codinghorror.com/pick-a-license-any-license/) </cite>\n",
    "\n",
    "- The main choices are:\n",
    "  - BSD/MIT: Permissive. Anyone can use for any purpose. The only legalese is saying that I don't guarantee this will work.\n",
    "  - GPL: copy-left. Anyone can use, but then their license **must** be GPL as well. \n",
    "  - Choosing between the two gets nerds as riled up as vim vs emacs."
   ]
  },
  {
   "cell_type": "code",
   "execution_count": null,
   "metadata": {
    "collapsed": true
   },
   "outputs": [],
   "source": []
  }
 ],
 "metadata": {
  "celltoolbar": "Slideshow",
  "kernelspec": {
   "display_name": "Python 3",
   "language": "python",
   "name": "python3"
  },
  "language_info": {
   "codemirror_mode": {
    "name": "ipython",
    "version": 3
   },
   "file_extension": ".py",
   "mimetype": "text/x-python",
   "name": "python",
   "nbconvert_exporter": "python",
   "pygments_lexer": "ipython3",
   "version": "3.4.3"
  }
 },
 "nbformat": 4,
 "nbformat_minor": 0
}
