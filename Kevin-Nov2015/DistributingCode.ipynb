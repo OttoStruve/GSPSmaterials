{
 "cells": [
  {
   "cell_type": "markdown",
   "metadata": {
    "slideshow": {
     "slide_type": "slide"
    }
   },
   "source": [
    "# Packaging and Distributing Code (for python)\n",
    "\n",
    "## Kevin Gullikson"
   ]
  },
  {
   "cell_type": "markdown",
   "metadata": {
    "slideshow": {
     "slide_type": "slide"
    }
   },
   "source": [
    "# Why Package code?"
   ]
  },
  {
   "cell_type": "markdown",
   "metadata": {
    "slideshow": {
     "slide_type": "fragment"
    }
   },
   "source": [
    "- Make things easy on collaborators\n",
    "  - They can install things easier\n",
    "  - They can all use the same code base as you\n",
    "  - They can contribute to the code\n",
    "  - Motivate them to switch to python"
   ]
  },
  {
   "cell_type": "markdown",
   "metadata": {
    "slideshow": {
     "slide_type": "fragment"
    }
   },
   "source": [
    "- Make things easy on YOU\n",
    "  - Easily install on new computers\n",
    "  - Documentation --> helps you remember what your 2 year old code does"
   ]
  },
  {
   "cell_type": "markdown",
   "metadata": {
    "slideshow": {
     "slide_type": "fragment"
    }
   },
   "source": [
    "- Get citations. Profit."
   ]
  },
  {
   "cell_type": "markdown",
   "metadata": {
    "slideshow": {
     "slide_type": "fragment"
    }
   },
   "source": [
    "- Overall good experience for industry jobs (I presume)"
   ]
  },
  {
   "cell_type": "markdown",
   "metadata": {
    "slideshow": {
     "slide_type": "slide"
    }
   },
   "source": [
    "# Setting up a Python Package"
   ]
  },
  {
   "cell_type": "markdown",
   "metadata": {
    "slideshow": {
     "slide_type": "subslide"
    }
   },
   "source": [
    "#Minimal Package Structure\n",
    "\n",
    "```\n",
    "root\n",
    "+-- setup.py\n",
    "+-- README\n",
    "+-- LICENSE\n",
    "+-- package_name/\n",
    "|   +-- __init__.py\n",
    "|   +-- foo.py\n",
    "|   +-- bar.py\n",
    "\n",
    "```"
   ]
  },
  {
   "cell_type": "markdown",
   "metadata": {
    "slideshow": {
     "slide_type": "subslide"
    }
   },
   "source": [
    "## What is the `__init__.py`?\n",
    "\n",
    " - It tells python that this directory is a package\n",
    " - Does not need to have anything in it - an empty file is fine\n",
    " - Lets you do:\n",
    " \n",
    "```python\n",
    "import package_name\n",
    "package_name.foo.foofunction()\n",
    "```"
   ]
  },
  {
   "cell_type": "markdown",
   "metadata": {
    "slideshow": {
     "slide_type": "fragment"
    }
   },
   "source": [
    "- You CAN put some stuff in it, though. Putting this in the `__init__.py`\n",
    "```python\n",
    "from foo import foofunction\n",
    "```\n",
    "    Lets you do:\n",
    "```python\n",
    "import package_name\n",
    "package_name.foofunction()\n",
    "```"
   ]
  },
  {
   "cell_type": "markdown",
   "metadata": {
    "slideshow": {
     "slide_type": "subslide"
    }
   },
   "source": [
    "## What is the `setup.py`?\n",
    "\n",
    "- This tells python how to install the program\n",
    "- You have probably done this before:\n",
    "\n",
    "```bash\n",
    "python setup.py install\n",
    "```\n",
    "\n",
    "- [Here](https://pythonhosted.org/an_example_pypi_project/setuptools.html) is a good tutorial on setting it up.\n",
    "- An example of a setup.py I created:\n",
    "  \n",
    "```python\n",
    "from setuptools import setup\n",
    "\n",
    "setup(name='fitting_utilities',\n",
    "      version='0.1.0',\n",
    "      description='Various useful classes for fitting stuff.',\n",
    "      author='Kevin Gullikson',\n",
    "      author_email='kevin.gullikson@gmail.com',\n",
    "      license='BSD',\n",
    "      classifiers=[\n",
    "          'Development Status :: 3 - Alpha',\n",
    "          'Intended Audience :: Science/Research',\n",
    "          'License :: OSI Approved :: BSD License',\n",
    "          'Programming Language :: Python',\n",
    "          'Topic :: Scientific/Engineering :: Astronomy',\n",
    "          ],\n",
    "      packages=['fitters'],\n",
    "      requires=['numpy', 'astropy'])\n",
    "```"
   ]
  },
  {
   "cell_type": "markdown",
   "metadata": {
    "slideshow": {
     "slide_type": "subslide"
    }
   },
   "source": [
    "## `setup.py` arguments\n",
    "\n",
    "- name: This is what goes on pypi (more on that later)\n",
    "- classifiers: Think of these like the keywords you put in your abstract. You want to make your code searchable. A list of classifiers is available [here](https://pypi.python.org/pypi?%3Aaction=list_classifiers)\n",
    "- packages: In the simple/standard case, it is just a list of the packages you are making available. **This is the name you import**\n",
    "```python\n",
    "import fitters\n",
    "```\n",
    "NOT\n",
    "```python\n",
    "import fitting_utilities\n",
    "```\n",
    "  - Having different things for the 'name' and 'packages' field can lead to [confusion](https://github.com/dfm/corner.py/issues/59)"
   ]
  },
  {
   "cell_type": "markdown",
   "metadata": {
    "slideshow": {
     "slide_type": "subslide"
    }
   },
   "source": [
    "## Some final thoughts about package setup\n",
    "\n"
   ]
  },
  {
   "cell_type": "markdown",
   "metadata": {
    "slideshow": {
     "slide_type": "fragment"
    }
   },
   "source": [
    "- Always have a README\n",
    "  - github will initialize one for you when you make a repository\n",
    "  - github works with markdown or reStructured Text (.rst files)\n",
    "  - pypi only works with reStructured Text\n",
    "  - Write your README in .rst!"
   ]
  },
  {
   "cell_type": "markdown",
   "metadata": {
    "slideshow": {
     "slide_type": "fragment"
    }
   },
   "source": [
    "- Always have a LICENSE\n",
    "> \"Because I did not explicitly indicate a license, I declared an implicit copyright without explaining \n",
    "> how others could use my code. Since the code is unlicensed, I could theoretically assert copyright at \n",
    "> any time and demand that people stop using my code. Experienced developers won't touch unlicensed code\n",
    "> because they have no legal right to use it. That's ironic, considering the whole reason I posted the \n",
    "> code in the first place was so other developers could benefit from that code. I could have easily \n",
    "> avoided this unfortunate situation if I had done the right thing and included a software license with my code.\"\n",
    "> -- <cite>Jeff Atwood, [codinghorror](http://blog.codinghorror.com/pick-a-license-any-license/) </cite>\n",
    "\n",
    "- The main choices are:\n",
    "  - BSD/MIT: Permissive. Anyone can use for any purpose. The only legalese is saying that I don't guarantee this will work.\n",
    "  - GPL: copy-left. Anyone can use, but then their license **must** be GPL as well. \n",
    "  - Choosing between the two gets nerds as riled up as vim vs emacs."
   ]
  },
  {
   "cell_type": "markdown",
   "metadata": {
    "slideshow": {
     "slide_type": "slide"
    }
   },
   "source": [
    "# Documenting Your Code"
   ]
  },
  {
   "cell_type": "markdown",
   "metadata": {
    "slideshow": {
     "slide_type": "subslide"
    }
   },
   "source": [
    "# Readme\n",
    "- Should contain general information about the package\n",
    "- Should include how to install it (even if that is just `python setup.py install`)\n",
    "- A simple usage example is a good idea too"
   ]
  },
  {
   "cell_type": "markdown",
   "metadata": {
    "slideshow": {
     "slide_type": "subslide"
    }
   },
   "source": [
    "# Docstrings\n",
    "\n",
    "- One of the best parts of python. **USE THEM**\n",
    "- From scikit-learn:\n",
    "\n",
    "```python\n",
    "class BayesianRidge(LinearModel, RegressorMixin):\n",
    "    \"\"\"Bayesian ridge regression\n",
    "    Fit a Bayesian ridge model and optimize the regularization parameters\n",
    "    lambda (precision of the weights) and alpha (precision of the noise).\n",
    "    Read more in the :ref:`User Guide <bayesian_regression>`.\n",
    "    Parameters\n",
    "    ----------\n",
    "    n_iter : int, optional\n",
    "        Maximum number of iterations.  Default is 300.\n",
    "    tol : float, optional\n",
    "        Stop the algorithm if w has converged. Default is 1.e-3.\n",
    "    alpha_1 : float, optional\n",
    "        Hyper-parameter : shape parameter for the Gamma distribution prior\n",
    "        over the alpha parameter. Default is 1.e-6\n",
    "    alpha_2 : float, optional\n",
    "        Hyper-parameter : inverse scale parameter (rate parameter) for the\n",
    "        Gamma distribution prior over the alpha parameter.\n",
    "        Default is 1.e-6.\n",
    "    lambda_1 : float, optional\n",
    "        Hyper-parameter : shape parameter for the Gamma distribution prior\n",
    "        over the lambda parameter. Default is 1.e-6.\n",
    "    lambda_2 : float, optional\n",
    "        Hyper-parameter : inverse scale parameter (rate parameter) for the\n",
    "        Gamma distribution prior over the lambda parameter.\n",
    "        Default is 1.e-6\n",
    "    compute_score : boolean, optional\n",
    "        If True, compute the objective function at each step of the model.\n",
    "        Default is False\n",
    "    fit_intercept : boolean, optional\n",
    "        whether to calculate the intercept for this model. If set\n",
    "        to false, no intercept will be used in calculations\n",
    "        (e.g. data is expected to be already centered).\n",
    "        Default is True.\n",
    "    normalize : boolean, optional, default False\n",
    "        If True, the regressors X will be normalized before regression.\n",
    "    copy_X : boolean, optional, default True\n",
    "        If True, X will be copied; else, it may be overwritten.\n",
    "    verbose : boolean, optional, default False\n",
    "        Verbose mode when fitting the model.\n",
    "    Attributes\n",
    "    ----------\n",
    "    coef_ : array, shape = (n_features)\n",
    "        Coefficients of the regression model (mean of distribution)\n",
    "    alpha_ : float\n",
    "       estimated precision of the noise.\n",
    "    lambda_ : array, shape = (n_features)\n",
    "       estimated precisions of the weights.\n",
    "    scores_ : float\n",
    "        if computed, value of the objective function (to be maximized)\n",
    "    Examples\n",
    "    --------\n",
    "    >>> from sklearn import linear_model\n",
    "    >>> clf = linear_model.BayesianRidge()\n",
    "    >>> clf.fit([[0,0], [1, 1], [2, 2]], [0, 1, 2])\n",
    "    ... # doctest: +NORMALIZE_WHITESPACE\n",
    "    BayesianRidge(alpha_1=1e-06, alpha_2=1e-06, compute_score=False,\n",
    "            copy_X=True, fit_intercept=True, lambda_1=1e-06, lambda_2=1e-06,\n",
    "            n_iter=300, normalize=False, tol=0.001, verbose=False)\n",
    "    >>> clf.predict([[1, 1]])\n",
    "    array([ 1.])\n",
    "    Notes\n",
    "    -----\n",
    "    See examples/linear_model/plot_bayesian_ridge.py for an example.\n",
    "```"
   ]
  },
  {
   "cell_type": "markdown",
   "metadata": {
    "slideshow": {
     "slide_type": "subslide"
    }
   },
   "source": [
    "##Docstring conventions"
   ]
  },
  {
   "cell_type": "markdown",
   "metadata": {
    "slideshow": {
     "slide_type": "fragment"
    }
   },
   "source": [
    "- Give a short description of what the class/function/method does\n",
    "```python\n",
    "\"\"\"Bayesian ridge regression\n",
    "    Fit a Bayesian ridge model and optimize the regularization parameters\n",
    "    lambda (precision of the weights) and alpha (precision of the noise).\n",
    "\"\"\"\n",
    "```"
   ]
  },
  {
   "cell_type": "markdown",
   "metadata": {
    "slideshow": {
     "slide_type": "fragment"
    }
   },
   "source": [
    "- Describe each parameter (both what the variable type should be and what the parameter means)\n",
    "```python\n",
    "\"\"\"\n",
    "    Parameters\n",
    "    ----------\n",
    "    n_iter : int, optional\n",
    "        Maximum number of iterations.  Default is 300.\n",
    "    tol : float, optional\n",
    "        Stop the algorithm if w has converged. Default is 1.e-3.\n",
    "    ...\n",
    "\"\"\"\n",
    "```"
   ]
  },
  {
   "cell_type": "markdown",
   "metadata": {
    "slideshow": {
     "slide_type": "fragment"
    }
   },
   "source": [
    "- Explain what the function returns, if applicable\n",
    "```python\n",
    "\"\"\"\n",
    "        Returns\n",
    "        -------\n",
    "        C : array, shape = (n_samples,)\n",
    "            Returns predicted values.\n",
    "\"\"\"\n",
    "```"
   ]
  },
  {
   "cell_type": "markdown",
   "metadata": {
    "slideshow": {
     "slide_type": "fragment"
    }
   },
   "source": [
    "- Examples are nice, but I wouldn't say necessary\n",
    "```python\n",
    "\"\"\"\n",
    "    Examples\n",
    "    --------\n",
    "    >>> from sklearn import linear_model\n",
    "    >>> clf = linear_model.BayesianRidge()\n",
    "    >>> clf.fit([[0,0], [1, 1], [2, 2]], [0, 1, 2])\n",
    "    ... # doctest: +NORMALIZE_WHITESPACE\n",
    "    BayesianRidge(alpha_1=1e-06, alpha_2=1e-06, compute_score=False,\n",
    "            copy_X=True, fit_intercept=True, lambda_1=1e-06, lambda_2=1e-06,\n",
    "            n_iter=300, normalize=False, tol=0.001, verbose=False)\n",
    "    >>> clf.predict([[1, 1]])\n",
    "    array([ 1.])\n",
    "\"\"\"\n",
    "```"
   ]
  },
  {
   "cell_type": "markdown",
   "metadata": {
    "slideshow": {
     "slide_type": "subslide"
    }
   },
   "source": [
    "#Sphinx (+readthedocs)\n",
    "- Can probably skip this step *unless you are widely publishing the code*\n",
    "- Builds documentation from reStructuredText\n",
    "- Similar stuff to the README on the main page\n",
    "- Include tutorials\n",
    "- Auto-documentation of the API"
   ]
  },
  {
   "cell_type": "markdown",
   "metadata": {
    "slideshow": {
     "slide_type": "subslide"
    }
   },
   "source": [
    "# Sphinx setup\n",
    "```\n",
    "root\n",
    "+-- setup.py\n",
    "+-- README\n",
    "+-- LICENSE\n",
    "+-- package_name/\n",
    "|   +-- __init__.py\n",
    "|   +-- foo.py\n",
    "|   +-- bar.py\n",
    "+-- docs/\n",
    "|   +-- index.rst\n",
    "|   +-- foo.rst\n",
    "|   +-- baz.rst\n",
    "```\n",
    "\n"
   ]
  },
  {
   "cell_type": "markdown",
   "metadata": {
    "slideshow": {
     "slide_type": "subslide"
    }
   },
   "source": [
    "## `index.rst`\n",
    "- This is what people will open the documentation to. \n",
    "- My [index.rst](http://telfit.readthedocs.org/en/latest/):\n",
    "\n",
    "```\n",
    "Welcome to TelFit's documentation!\n",
    "==================================\n",
    "\n",
    "Contents:\n",
    "\n",
    ".. toctree::\n",
    "   :maxdepth: 2\n",
    "\n",
    "   Intro\n",
    "   Installation\n",
    "   Tutorial\n",
    "   API\n",
    "   Updating the atmosphere profile <GDAS_atmosphere>\n",
    "\n",
    "```"
   ]
  },
  {
   "cell_type": "markdown",
   "metadata": {
    "slideshow": {
     "slide_type": "subslide"
    }
   },
   "source": [
    "## API (application programming interface)\n",
    "- Setup in the conf.py (gets mostly generated when you run\n",
    "\n",
    "```bash\n",
    "sphinx-quickstart\n",
    "```\n",
    "- Include the autodoc extension:\n",
    "\n",
    "```python\n",
    "\n",
    "# -- General configuration ------------------------------------------------\n",
    "\n",
    "# Add any Sphinx extension module names here, as strings. They can be\n",
    "# extensions coming with Sphinx (named 'sphinx.ext.*') or your custom\n",
    "# ones.\n",
    "extensions = [\n",
    "    'sphinx.ext.autodoc',\n",
    "    'sphinx.ext.coverage',\n",
    "    'sphinx.ext.mathjax',\n",
    "]\n",
    "\n",
    "```\n"
   ]
  },
  {
   "cell_type": "markdown",
   "metadata": {
    "slideshow": {
     "slide_type": "subslide"
    }
   },
   "source": [
    "## Readthedocs integration\n",
    "- Set up an account, connect to your github\n",
    "- Add commit hooks to rebuild the documentation every time you commit to master\n",
    "- Mostly will just work if the documentation builds on your own computer\n",
    "- readthedocs won't install random code (understandably)\n",
    "- You almost definitely will need to hack the conf.py file to make it work on readthedocs\n",
    "\n",
    "```python\n",
    "\n",
    "# Mock a few modules\n",
    "from mock import Mock as MagicMock\n",
    "\n",
    "class Mock(MagicMock):\n",
    "    @classmethod\n",
    "    def __getattr__(cls, name):\n",
    "            return Mock()\n",
    "\n",
    "MOCK_MODULES = ['FittingUtilities', 'numpy', 'scipy', 'matplotlib', 'scipy.interpolate', 'numpy.polynomial',\n",
    "                'lockfile', 'scipy.optimize', 'astropy', 'pysynphot', 'fortranformat', 'cython', 'requests',\n",
    "                'scipy.linalg', 'matplotlib.pyplot']\n",
    "sys.modules.update((mod_name, Mock()) for mod_name in MOCK_MODULES)\n",
    "```"
   ]
  },
  {
   "cell_type": "markdown",
   "metadata": {
    "slideshow": {
     "slide_type": "slide"
    }
   },
   "source": [
    "#Distributing Your Code"
   ]
  },
  {
   "cell_type": "markdown",
   "metadata": {
    "slideshow": {
     "slide_type": "slide"
    }
   },
   "source": [
    "# Pypi\n",
    "- de-facto standard in python installation.\n",
    "\n",
    "```bash\n",
    "pip install astropy\n",
    "```\n",
    "\n",
    "- Works great for pure-python packages, especially if they don't depend on anything too complicated.\n",
    "- Works for more complicated things as well, but can get hairy...\n"
   ]
  },
  {
   "cell_type": "markdown",
   "metadata": {
    "slideshow": {
     "slide_type": "subslide"
    }
   },
   "source": [
    "## Tutorial (mostly stolen from [here](http://peterdowns.com/posts/first-time-with-pypi.html))\n",
    "- One-time stuff:\n",
    "  1. Create an account on [pypi](https://pypi.python.org/pypi?%3Aaction=register_form) *and* [pypi testing](https://testpypi.python.org/pypi?%3Aaction=register_form)\n",
    "  2. Create a .pypirc file in the home directory (to make your life easier):\n",
    "\n",
    "```\n",
    "[distutils] # this tells distutils what package indexes you can push to\n",
    "index-servers =\n",
    "  pypi\n",
    "  pypitest\n",
    "\n",
    "[pypi]\n",
    "repository: https://pypi.python.org/pypi\n",
    "username: your_username\n",
    "password: your_password\n",
    "\n",
    "[pypitest]\n",
    "repository: https://testpypi.python.org/pypi\n",
    "username: your_username\n",
    "password: your_password\n",
    "```"
   ]
  },
  {
   "cell_type": "markdown",
   "metadata": {
    "slideshow": {
     "slide_type": "subslide"
    }
   },
   "source": [
    "## Tutorial (continued)\n",
    "- For each package\n",
    "  1. Make a setup.py if you haven't already. Make sure there is a version number in there!\n",
    "  2. Register to pypitest:\n",
    "  \n",
    "    ```bash\n",
    "    python setup.py register -r pypitest\n",
    "    ```\n",
    "\n",
    "  3. Upload to pypitest\n",
    "  \n",
    "    ```bash\n",
    "    python setup.py sdist upload -r pypitest\n",
    "    ```\n",
    "\n",
    " 4. Test:\n",
    " \n",
    "    ```bash\n",
    "    # Make a new environment to isolate this from the installation you probably already have working\n",
    "    conda create -n package_test python=3 numpy astropy ...\n",
    "\n",
    "    # Switch to the new environment\n",
    "    source activate package_test\n",
    "\n",
    "    # Install your new package\n",
    "    pip install -i https://testpypi.python.org/pypi <package name>\n",
    "\n",
    "    # Test that it works. At the very least, make sure you can import the package\n",
    "    python -c 'import package_name'\n",
    "    ```\n",
    "\n",
    "   - If it works, move on.\n",
    "   - If not figure out what went wrong, *increment the version number* and start from step 3\n",
    " \n",
    " 5. Upload to pypi (de-increment the version number if you had to update it while testing)\n",
    "     \n",
    "    ```bash\n",
    "    python setup.py register -r pypi\n",
    "    python setup.py sdist upload -r pypi\n",
    "    \n",
    "    ```"
   ]
  },
  {
   "cell_type": "markdown",
   "metadata": {
    "slideshow": {
     "slide_type": "slide"
    }
   },
   "source": [
    "# Anaconda\n",
    "\n",
    "- Quickly starting to rival pypi for installation\n",
    "- Installs *binaries* rather than compiling from source\n",
    "- Knows more about dependencies, can install other things in the right order\n",
    "- Can easily install non-python things too (like the HDF5 library need by h5py/pytables)"
   ]
  },
  {
   "cell_type": "markdown",
   "metadata": {
    "slideshow": {
     "slide_type": "subslide"
    }
   },
   "source": [
    "# Tutorial\n",
    "- I will assume you have your package on pypi already. There are other ways to make conda packages...\n",
    "- One-time stuff:\n",
    "  1. Make an account on anaconda.org\n",
    "  2. login:\n",
    "  \n",
    "    ```bash\n",
    "    anaconda login\n",
    "    # Enter username and password when prompted\n",
    "    ```"
   ]
  },
  {
   "cell_type": "markdown",
   "metadata": {
    "slideshow": {
     "slide_type": "subslide"
    }
   },
   "source": [
    "#Tutorial\n",
    "- For every package\n",
    "  1. cd to your home directory\n",
    "  2. ``` conda skeleton pypi <package_name> #This makes a directory called package_name```\n",
    "  3. Look at the meta.yaml in the new package_name directory. Make sure the information, and especially the required packages, are correct\n",
    "  4. If you have the \"install_requires\" keyword in your setup.py, you may need to edit the build.sh to have:\n",
    "  \n",
    "    ```bash\n",
    "    $PYTHON setup.py install --single-version-externally-managed --record=/tmp/record.txt\n",
    "    ```\n",
    "    \n",
    "    (that fix came from [this issue](https://groups.google.com/a/continuum.io/forum/#!topic/conda/ZKdP5BujriA))\n",
    "  5. build the package. The full path name to the package will be printed to the screen\n",
    "    \n",
    "    ```bash\n",
    "    conda build <package_name>\n",
    "    ```\n",
    "  6. Convert to work for other platforms (I am not sure this is guaranteed to work)\n",
    "  \n",
    "    ```bash\n",
    "    conda convert -f --platform all full/path/to/package -o output_directory\n",
    "    ```\n",
    "  7. Upload all of the packages to anaconda.org (must be logged in)\n",
    "  \n",
    "    ```bash\n",
    "    for f in output_directory/*/*\n",
    "    do\n",
    "        anaconda upload $f\n",
    "    done\n",
    "    ```"
   ]
  },
  {
   "cell_type": "code",
   "execution_count": null,
   "metadata": {
    "collapsed": true
   },
   "outputs": [],
   "source": []
  }
 ],
 "metadata": {
  "celltoolbar": "Slideshow",
  "kernelspec": {
   "display_name": "Python 3",
   "language": "python",
   "name": "python3"
  },
  "language_info": {
   "codemirror_mode": {
    "name": "ipython",
    "version": 3
   },
   "file_extension": ".py",
   "mimetype": "text/x-python",
   "name": "python",
   "nbconvert_exporter": "python",
   "pygments_lexer": "ipython3",
   "version": "3.4.3"
  }
 },
 "nbformat": 4,
 "nbformat_minor": 0
}
